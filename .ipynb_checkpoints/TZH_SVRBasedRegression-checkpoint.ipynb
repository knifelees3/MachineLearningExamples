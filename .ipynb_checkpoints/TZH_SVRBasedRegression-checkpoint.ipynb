{
 "cells": [
  {
   "cell_type": "markdown",
   "metadata": {},
   "source": [
    "# SVM and SVR Based Regression"
   ]
  },
  {
   "cell_type": "markdown",
   "metadata": {},
   "source": [
    "Zhaohua Tian\n",
    "2021 07 13\n",
    "\n",
    "在这个笔记主要是尝试一下用支持向量机的方法来进行分类和做回归。"
   ]
  },
  {
   "cell_type": "markdown",
   "metadata": {},
   "source": [
    "## Simpel Try with Regression"
   ]
  },
  {
   "cell_type": "markdown",
   "metadata": {},
   "source": [
    "### An existing example\n",
    "[SVM解释以及SVR做预测的例子](https://www.machinecurve.com/index.php/2020/11/17/how-to-perform-multioutput-regression-with-svms-in-python/)"
   ]
  },
  {
   "cell_type": "code",
   "execution_count": 1,
   "metadata": {
    "ExecuteTime": {
     "end_time": "2021-07-13T01:38:46.618829Z",
     "start_time": "2021-07-13T01:38:09.341245Z"
    }
   },
   "outputs": [
    {
     "name": "stdout",
     "output_type": "stream",
     "text": [
      "MSE for first regressor: 141.0193626050902 - second regressor: 455.1671321893824\n",
      "MAE for first regressor: 2.522888165757883 - second regressor: 5.167604671914253\n"
     ]
    }
   ],
   "source": [
    "from sklearn.datasets import make_regression\n",
    "from sklearn.multioutput import MultiOutputRegressor\n",
    "from sklearn.svm import SVR\n",
    "from sklearn.model_selection import train_test_split\n",
    "from sklearn.metrics import mean_squared_error, mean_absolute_error\n",
    "\n",
    "# Generate dataset\n",
    "X, y = make_regression(n_samples=25000, n_features=3, n_targets=2, random_state=33)\n",
    "\n",
    "# Train/test split\n",
    "X_train, X_test, y_train, y_test = train_test_split(X, y, test_size=0.20, random_state=33)\n",
    "\n",
    "# Create the SVR regressor\n",
    "svr = SVR(epsilon=0.2)\n",
    "\n",
    "# Create the Multioutput Regressor\n",
    "mor = MultiOutputRegressor(svr)\n",
    "\n",
    "# Train the regressor\n",
    "mor = mor.fit(X_train, y_train)\n",
    "\n",
    "# Generate predictions for testing data\n",
    "y_pred = mor.predict(X_test)\n",
    "\n",
    "# Evaluate the regressor\n",
    "mse_one = mean_squared_error(y_test[:,0], y_pred[:,0])\n",
    "mse_two = mean_squared_error(y_test[:,1], y_pred[:,1])\n",
    "print(f'MSE for first regressor: {mse_one} - second regressor: {mse_two}')\n",
    "mae_one = mean_absolute_error(y_test[:,0], y_pred[:,0])\n",
    "mae_two = mean_absolute_error(y_test[:,1], y_pred[:,1])\n",
    "print(f'MAE for first regressor: {mae_one} - second regressor: {mae_two}')"
   ]
  },
  {
   "cell_type": "code",
   "execution_count": 4,
   "metadata": {
    "ExecuteTime": {
     "end_time": "2021-07-13T01:39:52.145619Z",
     "start_time": "2021-07-13T01:39:52.135096Z"
    }
   },
   "outputs": [
    {
     "data": {
      "text/plain": [
       "array([[ 94.46090012, 156.52710709]])"
      ]
     },
     "execution_count": 4,
     "metadata": {},
     "output_type": "execute_result"
    }
   ],
   "source": [
    "mor.predict([[1,2,3]])"
   ]
  },
  {
   "cell_type": "code",
   "execution_count": 8,
   "metadata": {
    "ExecuteTime": {
     "end_time": "2021-07-13T01:46:40.059983Z",
     "start_time": "2021-07-13T01:46:40.055982Z"
    }
   },
   "outputs": [
    {
     "name": "stdout",
     "output_type": "stream",
     "text": [
      "(20000, 3)\n"
     ]
    }
   ],
   "source": [
    "print(np.shape(X_train))"
   ]
  },
  {
   "cell_type": "markdown",
   "metadata": {},
   "source": [
    "### A new test of an 2D function"
   ]
  },
  {
   "cell_type": "code",
   "execution_count": 33,
   "metadata": {
    "ExecuteTime": {
     "end_time": "2021-07-13T02:14:56.446466Z",
     "start_time": "2021-07-13T02:14:56.227642Z"
    },
    "scrolled": false
   },
   "outputs": [
    {
     "data": {
      "image/png": "[encoded data removed]",
      "text/plain": [
       "<Figure size 432x288 with 1 Axes>"
      ]
     },
     "metadata": {
      "needs_background": "light"
     },
     "output_type": "display_data"
    }
   ],
   "source": [
    "import matplotlib.pyplot as plt\n",
    "def f_model(x1,x2,b,c):\n",
    "    return np.sin(x1-x2)**2*np.exp(-b*(x1)**2-c*(x2)**2)\n",
    "\n",
    "x1_train_list=np.linspace(-10,10,100)\n",
    "x2_train_list=np.linspace(-10,10,100)\n",
    "x1_grid_train,x2_grid_train=np.meshgrid(x1_train_list,x2_train_list)\n",
    "\n",
    "x1_test_list=np.linspace(-10,10,70)\n",
    "x2_test_list=np.linspace(-10,10,70)\n",
    "x1_grid_test,x2_grid_test=np.meshgrid(x1_train_list,x2_train_list)\n",
    "\n",
    "y_train=f_model(x1_grid_train,x2_grid_train,0.05,0.3)\n",
    "\n",
    "fig1=plt.figure()\n",
    "plt.pcolormesh(x1_grid_train,x2_grid_tain,y_train,cmap='jet')\n",
    "plt.show()"
   ]
  },
  {
   "cell_type": "markdown",
   "metadata": {},
   "source": [
    "我们需要准备好数据库，我们的数据应该是随机的XY以及对应的AB.假设我们的让XY在-10,10以内，变量在0到1之间，那么"
   ]
  },
  {
   "cell_type": "code",
   "execution_count": 46,
   "metadata": {
    "ExecuteTime": {
     "end_time": "2021-07-13T02:19:21.667337Z",
     "start_time": "2021-07-13T02:19:21.659333Z"
    }
   },
   "outputs": [],
   "source": [
    "X_train=np.transpose(np.vstack((np.ravel(x1_grid_train),np.ravel(x2_grid_train))))\n",
    "X_test=np.transpose(np.vstack((np.ravel(x1_grid_test),np.ravel(x2_grid_test))))\n",
    "Y_train=np.ravel(y_train)"
   ]
  },
  {
   "cell_type": "code",
   "execution_count": 48,
   "metadata": {
    "ExecuteTime": {
     "end_time": "2021-07-13T02:19:58.826466Z",
     "start_time": "2021-07-13T02:19:58.809464Z"
    },
    "scrolled": true
   },
   "outputs": [
    {
     "ename": "ValueError",
     "evalue": "y must have at least two dimensions for multi-output regression but has only one.",
     "output_type": "error",
     "traceback": [
      "\u001b[1;31m---------------------------------------------------------------------------\u001b[0m",
      "\u001b[1;31mValueError\u001b[0m                                Traceback (most recent call last)",
      "\u001b[1;32m<ipython-input-48-36aecef15022>\u001b[0m in \u001b[0;36m<module>\u001b[1;34m\u001b[0m\n\u001b[0;32m      6\u001b[0m \u001b[1;33m\u001b[0m\u001b[0m\n\u001b[0;32m      7\u001b[0m \u001b[1;31m# Train the regressor\u001b[0m\u001b[1;33m\u001b[0m\u001b[1;33m\u001b[0m\u001b[1;33m\u001b[0m\u001b[0m\n\u001b[1;32m----> 8\u001b[1;33m \u001b[0mmor\u001b[0m \u001b[1;33m=\u001b[0m \u001b[0mmor\u001b[0m\u001b[1;33m.\u001b[0m\u001b[0mfit\u001b[0m\u001b[1;33m(\u001b[0m\u001b[0mX_train\u001b[0m\u001b[1;33m,\u001b[0m \u001b[0mY_train\u001b[0m\u001b[1;33m)\u001b[0m\u001b[1;33m\u001b[0m\u001b[1;33m\u001b[0m\u001b[0m\n\u001b[0m\u001b[0;32m      9\u001b[0m \u001b[1;33m\u001b[0m\u001b[0m\n\u001b[0;32m     10\u001b[0m \u001b[1;31m# Generate predictions for testing data\u001b[0m\u001b[1;33m\u001b[0m\u001b[1;33m\u001b[0m\u001b[1;33m\u001b[0m\u001b[0m\n",
      "\u001b[1;32m~\\AppData\\Local\\Programs\\Python\\Python37\\lib\\site-packages\\sklearn\\multioutput.py\u001b[0m in \u001b[0;36mfit\u001b[1;34m(self, X, y, sample_weight, **fit_params)\u001b[0m\n\u001b[0;32m    166\u001b[0m \u001b[1;33m\u001b[0m\u001b[0m\n\u001b[0;32m    167\u001b[0m         \u001b[1;32mif\u001b[0m \u001b[0my\u001b[0m\u001b[1;33m.\u001b[0m\u001b[0mndim\u001b[0m \u001b[1;33m==\u001b[0m \u001b[1;36m1\u001b[0m\u001b[1;33m:\u001b[0m\u001b[1;33m\u001b[0m\u001b[1;33m\u001b[0m\u001b[0m\n\u001b[1;32m--> 168\u001b[1;33m             raise ValueError(\"y must have at least two dimensions for \"\n\u001b[0m\u001b[0;32m    169\u001b[0m                              \"multi-output regression but has only one.\")\n\u001b[0;32m    170\u001b[0m \u001b[1;33m\u001b[0m\u001b[0m\n",
      "\u001b[1;31mValueError\u001b[0m: y must have at least two dimensions for multi-output regression but has only one."
     ]
    }
   ],
   "source": [
    "# Create the SVR regressor\n",
    "svr = SVR(epsilon=0.2)\n",
    "\n",
    "# Create the Multioutput Regressor\n",
    "mor = MultiOutputRegressor(svr)\n",
    "\n",
    "# Train the regressor                  \n",
    "mor = mor.fit(X_train, Y_train)\n",
    "\n",
    "# Generate predictions for testing data\n",
    "y_pred = mor.predict(X_test)"
   ]
  },
  {
   "cell_type": "markdown",
   "metadata": {},
   "source": [
    "看来还是得按照原先的计算来，所以拟合应该是给出一些列x,y,z，拟合出a,b"
   ]
  },
  {
   "cell_type": "code",
   "execution_count": 61,
   "metadata": {
    "ExecuteTime": {
     "end_time": "2021-07-13T02:36:30.780399Z",
     "start_time": "2021-07-13T02:36:30.613399Z"
    }
   },
   "outputs": [],
   "source": [
    "rng = np.random.default_rng(12345)\n",
    "num_train=10000\n",
    "num_test=100\n",
    "x1_rand_list=(-1+2*np.ravel(rng.random(num_train)))*10\n",
    "x2_rand_list=(-1+2*np.ravel(rng.random(num_train)))*10\n",
    "c_rand_list=np.ravel(rng.random(num_train))\n",
    "d_rand_list=np.ravel(rng.random(num_train))\n",
    "y_rand_list=f_model(x1_rand_list,x2_rand_list,c_rand_list,d_rand_list)\n",
    "\n",
    "X_train=np.transpose(np.vstack((x1_rand_list,x2_rand_list,y_rand_list)))   \n",
    "Y_train=np.transpose(np.vstack((c_rand_list,d_rand_list)))\n",
    "\n",
    "\n",
    "x1_test_list=(-1+2*np.ravel(rng.random(num_test)))*10\n",
    "x2_test_list=(-1+2*np.ravel(rng.random(num_test)))*10\n",
    "c_test_list=np.ravel(rng.random(num_test))\n",
    "d_test_list=np.ravel(rng.random(num_test))\n",
    "y_test_list=f_model(x1_test_list,x2_test_list,c_test_list,d_test_list)\n",
    "\n",
    "X_test=np.transpose(np.vstack((x1_test_list,x2_test_list,y_test_list)))   \n",
    "Y_test=np.transpose(np.vstack((c_test_list,d_test_list)))"
   ]
  },
  {
   "cell_type": "code",
   "execution_count": null,
   "metadata": {
    "ExecuteTime": {
     "start_time": "2021-07-13T02:36:35.692Z"
    }
   },
   "outputs": [],
   "source": [
    "# Create the SVR regressor\n",
    "svr = SVR(epsilon=0.2)\n",
    "\n",
    "# Create the Multioutput Regressor\n",
    "mor = MultiOutputRegressor(svr)\n",
    "\n",
    "# Train the regressor                  \n",
    "mor = mor.fit(X_train, Y_train)\n",
    "\n",
    "# Generate predictions for testing data\n",
    "Y_pred = mor.predict(X_test)"
   ]
  },
  {
   "cell_type": "code",
   "execution_count": 59,
   "metadata": {
    "ExecuteTime": {
     "end_time": "2021-07-13T02:35:54.720761Z",
     "start_time": "2021-07-13T02:35:54.508745Z"
    }
   },
   "outputs": [
    {
     "data": {
      "image/png": "[encoded data removed]",
      "text/plain": [
       "<Figure size 432x288 with 1 Axes>"
      ]
     },
     "metadata": {
      "needs_background": "light"
     },
     "output_type": "display_data"
    }
   ],
   "source": [
    "fig=plt.figure()\n",
    "plt.plot(Y_test[:,0],Y_test[:,1],'rs',label='Test Data')\n",
    "plt.plot(Y_pred[:,0],Y_pred[:,1],'bs',label='Test Data')\n",
    "plt.legend(loc='best')\n",
    "plt.show()"
   ]
  }
 ],
 "metadata": {
  "kernelspec": {
   "display_name": "Python 3.7.2 64-bit",
   "language": "python",
   "name": "python37264bit11efc31016174d95a63a7aa6bcdd4318"
  },
  "language_info": {
   "codemirror_mode": {
    "name": "ipython",
    "version": 3
   },
   "file_extension": ".py",
   "mimetype": "text/x-python",
   "name": "python",
   "nbconvert_exporter": "python",
   "pygments_lexer": "ipython3",
   "version": "3.7.2"
  },
  "toc": {
   "base_numbering": 1,
   "nav_menu": {},
   "number_sections": true,
   "sideBar": true,
   "skip_h1_title": false,
   "title_cell": "Table of Contents",
   "title_sidebar": "Contents",
   "toc_cell": false,
   "toc_position": {},
   "toc_section_display": true,
   "toc_window_display": false
  },
  "varInspector": {
   "cols": {
    "lenName": 16,
    "lenType": 16,
    "lenVar": 40
   },
   "kernels_config": {
    "python": {
     "delete_cmd_postfix": "",
     "delete_cmd_prefix": "del ",
     "library": "var_list.py",
     "varRefreshCmd": "print(var_dic_list())"
    },
    "r": {
     "delete_cmd_postfix": ") ",
     "delete_cmd_prefix": "rm(",
     "library": "var_list.r",
     "varRefreshCmd": "cat(var_dic_list()) "
    }
   },
   "position": {
    "height": "386.4px",
    "left": "1166px",
    "right": "20px",
    "top": "120px",
    "width": "350px"
   },
   "types_to_exclude": [
    "module",
    "function",
    "builtin_function_or_method",
    "instance",
    "_Feature"
   ],
   "window_display": false
  }
 },
 "nbformat": 4,
 "nbformat_minor": 2
}
