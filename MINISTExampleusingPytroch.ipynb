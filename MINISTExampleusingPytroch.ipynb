{
 "cells": [
  {
   "cell_type": "markdown",
   "metadata": {},
   "source": [
    "# MNIST Handwritten Digit Recognition in PyTorch"
   ]
  },
  {
   "cell_type": "markdown",
   "metadata": {},
   "source": [
    "Zhaohua Tian\n",
    "2021 07 10\n",
    "\n",
    "在这个例子中学习用Pytorch建模进行数字识别。手写字体识别一个最简单的例子，有了这个的搭建经验之后，其他的识别就可以非常轻松胜任。\n",
    "我是照着这个教程一步步来的\n",
    "https://nextjournal.com/gkoehler/pytorch-mnist"
   ]
  },
  {
   "cell_type": "markdown",
   "metadata": {},
   "source": [
    "## 准备数据"
   ]
  },
  {
   "cell_type": "markdown",
   "metadata": {
    "ExecuteTime": {
     "end_time": "2021-07-12T05:31:46.771462Z",
     "start_time": "2021-07-12T05:31:46.754474Z"
    }
   },
   "source": [
    "首先是插入必要的包"
   ]
  },
  {
   "cell_type": "code",
   "execution_count": 5,
   "metadata": {
    "ExecuteTime": {
     "end_time": "2021-07-13T06:07:09.526420Z",
     "start_time": "2021-07-13T06:07:09.001398Z"
    }
   },
   "outputs": [],
   "source": [
    "import torch\n",
    "import torchvision"
   ]
  },
  {
   "cell_type": "markdown",
   "metadata": {},
   "source": [
    "准备好准备数据库"
   ]
  },
  {
   "cell_type": "code",
   "execution_count": 64,
   "metadata": {
    "ExecuteTime": {
     "end_time": "2021-07-12T05:40:42.968219Z",
     "start_time": "2021-07-12T05:40:42.955706Z"
    }
   },
   "outputs": [
    {
     "data": {
      "text/plain": [
       "<torch._C.Generator at 0x280da455a08>"
      ]
     },
     "execution_count": 64,
     "metadata": {},
     "output_type": "execute_result"
    }
   ],
   "source": [
    "n_epochs = 3 # 打算训练几个周期\n",
    "batch_size_train = 64 # 用训练的样本个数\n",
    "batch_size_test = 1000 # 用来测试的样本个数\n",
    "learning_rate = 0.01 # 学习速率\n",
    "momentum = 0.5 # 顾名思义就是动量，可以参见这篇博文，https://blog.csdn.net/weixin_40793406/article/details/84666803\n",
    "log_interval = 10 # 每训练几个数据输出一个训练结果到屏幕\n",
    "\n",
    "random_seed = 1\n",
    "torch.backends.cudnn.enabled = False #没有cuda\n",
    "torch.manual_seed(random_seed) #让结果具有重复性，设置随机固定，可以参见，https://blog.csdn.net/weixin_43002433/article/details/104706950"
   ]
  },
  {
   "cell_type": "markdown",
   "metadata": {},
   "source": [
    "然后是准备数据,需要从`torchvision`里面调用"
   ]
  },
  {
   "cell_type": "code",
   "execution_count": 79,
   "metadata": {
    "ExecuteTime": {
     "end_time": "2021-07-12T05:48:33.846527Z",
     "start_time": "2021-07-12T05:48:33.793855Z"
    },
    "scrolled": true
   },
   "outputs": [],
   "source": [
    "train_loader = torch.utils.data.DataLoader(\n",
    "  torchvision.datasets.MNIST('/files/', train=True, download=True,#训练过的数据，需要下载\n",
    "                             transform=torchvision.transforms.Compose([ #以用compose将这些图像预处理操作连起来。\n",
    "                               torchvision.transforms.ToTensor(), # 将一个PIL图像转换为tensor。即，(H*W*C)范围在[0,255]的PIL图像 转换为 (C*H*W)范围在[0,1]的torch.tensor。\n",
    "                               torchvision.transforms.Normalize( # 归一化设置均值和标准差\n",
    "                                 (0.1307,), (0.3081,))\n",
    "                             ])),\n",
    "  batch_size=batch_size_train, shuffle=True)#每次都重新洗牌\n",
    "\n",
    "test_loader = torch.utils.data.DataLoader(\n",
    "  torchvision.datasets.MNIST('/files/', train=False, download=True,#没训练过的数据，需要下载\n",
    "                             transform=torchvision.transforms.Compose([\n",
    "                               torchvision.transforms.ToTensor(),\n",
    "                               torchvision.transforms.Normalize(\n",
    "                                 (0.1307,), (0.3081,))\n",
    "                             ])),\n",
    "  batch_size=batch_size_test, shuffle=True)"
   ]
  },
  {
   "cell_type": "markdown",
   "metadata": {},
   "source": [
    "我们可以查看下载下来的数据长什么样子"
   ]
  },
  {
   "cell_type": "code",
   "execution_count": 80,
   "metadata": {
    "ExecuteTime": {
     "end_time": "2021-07-12T05:48:43.172235Z",
     "start_time": "2021-07-12T05:48:42.996212Z"
    }
   },
   "outputs": [],
   "source": [
    "examples = enumerate(test_loader)\n",
    "batch_idx, (example_data, example_targets) = next(examples)"
   ]
  },
  {
   "cell_type": "code",
   "execution_count": 81,
   "metadata": {
    "ExecuteTime": {
     "end_time": "2021-07-12T05:48:45.433390Z",
     "start_time": "2021-07-12T05:48:45.428391Z"
    }
   },
   "outputs": [
    {
     "data": {
      "text/plain": [
       "torch.Size([1000, 1, 28, 28])"
      ]
     },
     "execution_count": 81,
     "metadata": {},
     "output_type": "execute_result"
    }
   ],
   "source": [
    "example_data.shape"
   ]
  },
  {
   "cell_type": "markdown",
   "metadata": {},
   "source": [
    "我们可以尝试访问里面的数据"
   ]
  },
  {
   "cell_type": "code",
   "execution_count": 83,
   "metadata": {
    "ExecuteTime": {
     "end_time": "2021-07-12T05:49:07.621342Z",
     "start_time": "2021-07-12T05:49:07.094258Z"
    }
   },
   "outputs": [
    {
     "name": "stderr",
     "output_type": "stream",
     "text": [
      "C:\\Users\\xiail\\AppData\\Local\\Programs\\Python\\Python37\\lib\\site-packages\\matplotlib\\figure.py:445: UserWarning: Matplotlib is currently using module://ipykernel.pylab.backend_inline, which is a non-GUI backend, so cannot show the figure.\n",
      "  % get_backend())\n"
     ]
    },
    {
     "data": {
      "image/png": "[encoded data removed]",
      "text/plain": [
       "<Figure size 432x288 with 6 Axes>"
      ]
     },
     "metadata": {},
     "output_type": "display_data"
    }
   ],
   "source": [
    "import matplotlib.pyplot as plt\n",
    "\n",
    "fig = plt.figure()\n",
    "for i in range(6):\n",
    "  plt.subplot(2,3,i+1)\n",
    "  plt.tight_layout()\n",
    "  plt.imshow(example_data[i][0], cmap='jet', interpolation='none')\n",
    "  plt.title(\"Ground Truth: {}\".format(example_targets[i]))\n",
    "  plt.xticks([])\n",
    "  plt.yticks([])\n",
    "fig.show()"
   ]
  },
  {
   "cell_type": "markdown",
   "metadata": {},
   "source": [
    "## 搭建神经网络"
   ]
  },
  {
   "cell_type": "code",
   "execution_count": 2,
   "metadata": {
    "ExecuteTime": {
     "end_time": "2021-07-13T06:07:01.033933Z",
     "start_time": "2021-07-13T06:06:59.937224Z"
    }
   },
   "outputs": [],
   "source": [
    "import torch.nn as nn\n",
    "import torch.nn.functional as F #一些层的设置通过这个函数实现，比如卷积层\n",
    "import torch.optim as optim #优化函数，必须得有的"
   ]
  },
  {
   "cell_type": "code",
   "execution_count": 30,
   "metadata": {
    "ExecuteTime": {
     "end_time": "2021-07-12T04:01:56.555827Z",
     "start_time": "2021-07-12T04:01:56.542823Z"
    }
   },
   "outputs": [],
   "source": [
    "class Net(nn.Module):\n",
    "    def __init__(self):\n",
    "        super(Net, self).__init__() #标准化流程\n",
    "        self.conv1 = nn.Conv2d(1, 10, kernel_size=5) #第一层卷积层\n",
    "        self.conv2 = nn.Conv2d(10, 20, kernel_size=5)# 第二层卷积层\n",
    "        self.conv2_drop = nn.Dropout2d()# 第三层将负数去掉\n",
    "        self.fc1 = nn.Linear(320, 50) #第四层线性层\n",
    "        self.fc2 = nn.Linear(50, 10)# 最后一层线性层\n",
    "\n",
    "    def forward(self, x):\n",
    "        x = F.relu(F.max_pool2d(self.conv1(x), 2))# 先卷积层再进行池化操作，取最大值\n",
    "        x = F.relu(F.max_pool2d(self.conv2_drop(self.conv2(x)), 2))# 先卷积再进行池化操作，取最大值\n",
    "        x = x.view(-1, 320)# 转化为一维向量\n",
    "        x = F.relu(self.fc1(x))# 线性操作之后在去掉负数\n",
    "        x = F.dropout(x, training=self.training)\n",
    "        x = self.fc2(x)\n",
    "        return F.log_softmax(x)"
   ]
  },
  {
   "cell_type": "markdown",
   "metadata": {},
   "source": [
    "* 池化层的操作是为了减小体积，也需要设置\n",
    "* Dropout是为了防止或减轻过拟合而使用的函数，它一般用在全连接层。\n",
    "* Dropout 是训练过程中，对于神经网络单元，按照一定的概率将其暂时从网络中丢弃。注意是暂时，对于随机梯度下降来说，由于是随机丢弃，故而每一个mini-batch都在训练不同的网络。\n",
    "* 池化操作:\n",
    "    输入: (N,C,H_{in},W_in)\n",
    "    输出: (N,C,H_out,W_out)\n",
    "$$H_{out}=floor((H_{in} + 2padding[0] - dilation[0](kernel\\_size[0] - 1) - 1)/stride[0] + 1$$\n",
    "\n",
    "$$W_{out}=floor((W_{in} + 2padding[1] - dilation[1](kernel\\_size[1] - 1) - 1)/stride[1] + 1$$\n",
    "\n",
    "我们的神经网络层的几何形状变化为：\n",
    "1. 原始为$1000\\times1\\times28\\times28$\n",
    "2. 第一个卷积层以后变成$1000\\times1\\times(28-5+1)\\times(28-5+1)\\times 10$=$1000\\times1\\times(24)\\times(24)\\times 10$\n",
    "3. 第一个卷积层以后池化最大操作变成$1000\\times1\\times(24/2)\\times(24/2)\\times 10$=$1000\\times1\\times(12)\\times(12)\\times 10$\n",
    "4. 第二个卷积层以后变成$1000\\times1\\times(12-5+1)\\times(12-5+1)\\times 20$=$1000\\times1\\times(8)\\times(8)\\times 20$\n",
    "5. 第二个卷积层以后池化最大操作变成$1000\\times1\\times(8/2)\\times(8/2)\\times 20$=$1000\\times1\\times(4)\\times(4)\\times 20$\n",
    "6. 最后编程一维的数据$1000\\times1\\times 320$\n",
    "下面有一个更加简洁的例子来打印这些形状变化"
   ]
  },
  {
   "cell_type": "code",
   "execution_count": 8,
   "metadata": {
    "ExecuteTime": {
     "end_time": "2021-07-13T06:09:54.921930Z",
     "start_time": "2021-07-13T06:09:54.887937Z"
    }
   },
   "outputs": [
    {
     "name": "stdout",
     "output_type": "stream",
     "text": [
      "torch.Size([100, 1, 28, 28]) torch.Size([100, 10, 24, 24]) torch.Size([100, 10, 12, 12]) torch.Size([100, 20, 8, 8]) torch.Size([100, 20, 4, 4])\n",
      "torch.Size([100, 320])\n",
      "torch.Size([1, 1, 100, 320])\n"
     ]
    }
   ],
   "source": [
    "m1=nn.Conv2d(1, 10, kernel_size=5)\n",
    "m2=nn.Conv2d(10, 20, kernel_size=5)\n",
    "a=torch.randn(100, 1, 28, 28)\n",
    "b=m1(a)\n",
    "c=F.max_pool2d(b,2)\n",
    "d=m2(c)\n",
    "e=F.max_pool2d(d,2)\n",
    "print(a.shape,b.shape,c.shape,d.shape,e.shape)\n",
    "f=e.view(-1, 320)# -1的意思就是让它自己运算\n",
    "print(f.shape)\n",
    "g=f.view(1,1,100,320)\n",
    "print(g.shape)"
   ]
  },
  {
   "cell_type": "code",
   "execution_count": 139,
   "metadata": {
    "ExecuteTime": {
     "end_time": "2021-07-12T07:29:20.313840Z",
     "start_time": "2021-07-12T07:29:20.307837Z"
    }
   },
   "outputs": [],
   "source": [
    "network = Net()# 舒适化对象\n",
    "optimizer = optim.SGD(network.parameters(), lr=learning_rate,\n",
    "                      momentum=momentum) # 初始化优化器"
   ]
  },
  {
   "cell_type": "markdown",
   "metadata": {},
   "source": [
    "## 训练模型"
   ]
  },
  {
   "cell_type": "markdown",
   "metadata": {},
   "source": [
    "一切准备就绪之后，就可以来训练我们的模型了，首先需要初始化一些容器"
   ]
  },
  {
   "cell_type": "code",
   "execution_count": 140,
   "metadata": {
    "ExecuteTime": {
     "end_time": "2021-07-12T07:29:22.419104Z",
     "start_time": "2021-07-12T07:29:22.412114Z"
    }
   },
   "outputs": [
    {
     "name": "stdout",
     "output_type": "stream",
     "text": [
      "[0, 60000, 120000, 180000]\n"
     ]
    }
   ],
   "source": [
    "train_losses = []\n",
    "train_counter = []\n",
    "test_losses = []\n",
    "test_counter = [i*len(train_loader.dataset) for i in range(n_epochs + 1)]\n",
    "print(test_counter)"
   ]
  },
  {
   "cell_type": "code",
   "execution_count": 141,
   "metadata": {
    "ExecuteTime": {
     "end_time": "2021-07-12T07:29:25.117943Z",
     "start_time": "2021-07-12T07:29:25.106943Z"
    }
   },
   "outputs": [],
   "source": [
    "def train(epoch):\n",
    "  network.train()# 训练开始\n",
    "  for batch_idx, (data, target) in enumerate(train_loader):\n",
    "    optimizer.zero_grad()# 求解初始化矩阵的梯度\n",
    "    output = network(data)# 计算初始化矩阵的输出\n",
    "    loss = F.nll_loss(output, target)#计算误差\n",
    "    loss.backward()#根据误差计算梯度\n",
    "    optimizer.step()#更新参数\n",
    "    # 然后每隔一段时间就输出一下训练进度\n",
    "    if batch_idx % log_interval == 0:\n",
    "      print('Train Epoch: {} [{}/{} ({:.0f}%)]\\tLoss: {:.6f}'.format(\n",
    "        epoch, batch_idx * len(data), len(train_loader.dataset),\n",
    "        100. * batch_idx / len(train_loader), loss.item()))\n",
    "      train_losses.append(loss.item())\n",
    "      train_counter.append(\n",
    "        (batch_idx*64) + ((epoch-1)*len(train_loader.dataset)))\n",
    "      torch.save(network.state_dict(), './results/model.pth')\n",
    "      torch.save(optimizer.state_dict(), './results/optimizer.pth')"
   ]
  },
  {
   "cell_type": "markdown",
   "metadata": {},
   "source": [
    "另外我们还需要一个测试函数，每结果一轮训练，我们就用测试函数来测试准确率，基础测试的时候我们不会进行训练"
   ]
  },
  {
   "cell_type": "code",
   "execution_count": 142,
   "metadata": {
    "ExecuteTime": {
     "end_time": "2021-07-12T07:29:26.993174Z",
     "start_time": "2021-07-12T07:29:26.980168Z"
    }
   },
   "outputs": [],
   "source": [
    "def test():\n",
    "  network.eval()\n",
    "  test_loss = 0\n",
    "  correct = 0\n",
    "  with torch.no_grad():\n",
    "    for data, target in test_loader:\n",
    "      output = network(data)#计算输出\n",
    "      test_loss += F.nll_loss(output, target, size_average=False).item()#累加误差\n",
    "      pred = output.data.max(1, keepdim=True)[1]#求输出最大值作为结果\n",
    "      correct += pred.eq(target.data.view_as(pred)).sum()# 统计结果准确地值\n",
    "  test_loss /= len(test_loader.dataset)#计算平均误差\n",
    "  test_losses.append(test_loss)#存储平均误差\n",
    "  print('\\nTest set: Avg. loss: {:.4f}, Accuracy: {}/{} ({:.0f}%)\\n'.format(\n",
    "    test_loss, correct, len(test_loader.dataset),\n",
    "    100. * correct / len(test_loader.dataset)))"
   ]
  },
  {
   "cell_type": "markdown",
   "metadata": {},
   "source": [
    "我们可以测试一下没有训练的时候的结果"
   ]
  },
  {
   "cell_type": "markdown",
   "metadata": {},
   "source": [
    "接下来就可以开始训练了"
   ]
  },
  {
   "cell_type": "code",
   "execution_count": 143,
   "metadata": {
    "ExecuteTime": {
     "end_time": "2021-07-12T07:31:13.619677Z",
     "start_time": "2021-07-12T07:29:29.389681Z"
    }
   },
   "outputs": [
    {
     "name": "stderr",
     "output_type": "stream",
     "text": [
      "C:\\Users\\xiail\\AppData\\Local\\Programs\\Python\\Python37\\lib\\site-packages\\ipykernel_launcher.py:17: UserWarning: Implicit dimension choice for log_softmax has been deprecated. Change the call to include dim=X as an argument.\n"
     ]
    },
    {
     "name": "stdout",
     "output_type": "stream",
     "text": [
      "\n",
      "Test set: Avg. loss: 2.3167, Accuracy: 935/10000 (9%)\n",
      "\n",
      "Train Epoch: 1 [0/60000 (0%)]\tLoss: 2.337422\n",
      "Train Epoch: 1 [640/60000 (1%)]\tLoss: 2.294757\n",
      "Train Epoch: 1 [1280/60000 (2%)]\tLoss: 2.305587\n",
      "Train Epoch: 1 [1920/60000 (3%)]\tLoss: 2.283139\n",
      "Train Epoch: 1 [2560/60000 (4%)]\tLoss: 2.247725\n",
      "Train Epoch: 1 [3200/60000 (5%)]\tLoss: 2.250771\n",
      "Train Epoch: 1 [3840/60000 (6%)]\tLoss: 2.219730\n",
      "Train Epoch: 1 [4480/60000 (7%)]\tLoss: 2.219723\n",
      "Train Epoch: 1 [5120/60000 (9%)]\tLoss: 2.203631\n",
      "Train Epoch: 1 [5760/60000 (10%)]\tLoss: 2.107296\n",
      "Train Epoch: 1 [6400/60000 (11%)]\tLoss: 2.057307\n",
      "Train Epoch: 1 [7040/60000 (12%)]\tLoss: 1.931375\n",
      "Train Epoch: 1 [7680/60000 (13%)]\tLoss: 1.939493\n",
      "Train Epoch: 1 [8320/60000 (14%)]\tLoss: 1.818114\n",
      "Train Epoch: 1 [8960/60000 (15%)]\tLoss: 1.577809\n",
      "Train Epoch: 1 [9600/60000 (16%)]\tLoss: 1.607563\n",
      "Train Epoch: 1 [10240/60000 (17%)]\tLoss: 1.399805\n",
      "Train Epoch: 1 [10880/60000 (18%)]\tLoss: 1.243703\n",
      "Train Epoch: 1 [11520/60000 (19%)]\tLoss: 1.330369\n",
      "Train Epoch: 1 [12160/60000 (20%)]\tLoss: 1.332132\n",
      "Train Epoch: 1 [12800/60000 (21%)]\tLoss: 1.238487\n",
      "Train Epoch: 1 [13440/60000 (22%)]\tLoss: 1.196546\n",
      "Train Epoch: 1 [14080/60000 (23%)]\tLoss: 1.247545\n",
      "Train Epoch: 1 [14720/60000 (25%)]\tLoss: 1.121872\n",
      "Train Epoch: 1 [15360/60000 (26%)]\tLoss: 0.956480\n",
      "Train Epoch: 1 [16000/60000 (27%)]\tLoss: 0.882501\n",
      "Train Epoch: 1 [16640/60000 (28%)]\tLoss: 0.888452\n",
      "Train Epoch: 1 [17280/60000 (29%)]\tLoss: 1.035752\n",
      "Train Epoch: 1 [17920/60000 (30%)]\tLoss: 0.690428\n",
      "Train Epoch: 1 [18560/60000 (31%)]\tLoss: 0.877990\n",
      "Train Epoch: 1 [19200/60000 (32%)]\tLoss: 0.686564\n",
      "Train Epoch: 1 [19840/60000 (33%)]\tLoss: 0.806768\n",
      "Train Epoch: 1 [20480/60000 (34%)]\tLoss: 0.777244\n",
      "Train Epoch: 1 [21120/60000 (35%)]\tLoss: 0.776880\n",
      "Train Epoch: 1 [21760/60000 (36%)]\tLoss: 0.741509\n",
      "Train Epoch: 1 [22400/60000 (37%)]\tLoss: 0.635711\n",
      "Train Epoch: 1 [23040/60000 (38%)]\tLoss: 0.587965\n",
      "Train Epoch: 1 [23680/60000 (39%)]\tLoss: 0.638129\n",
      "Train Epoch: 1 [24320/60000 (41%)]\tLoss: 0.673636\n",
      "Train Epoch: 1 [24960/60000 (42%)]\tLoss: 0.588774\n",
      "Train Epoch: 1 [25600/60000 (43%)]\tLoss: 0.655892\n",
      "Train Epoch: 1 [26240/60000 (44%)]\tLoss: 0.699168\n",
      "Train Epoch: 1 [26880/60000 (45%)]\tLoss: 0.799118\n",
      "Train Epoch: 1 [27520/60000 (46%)]\tLoss: 0.474870\n",
      "Train Epoch: 1 [28160/60000 (47%)]\tLoss: 0.697614\n",
      "Train Epoch: 1 [28800/60000 (48%)]\tLoss: 0.512508\n",
      "Train Epoch: 1 [29440/60000 (49%)]\tLoss: 0.703345\n",
      "Train Epoch: 1 [30080/60000 (50%)]\tLoss: 0.711298\n",
      "Train Epoch: 1 [30720/60000 (51%)]\tLoss: 0.664359\n",
      "Train Epoch: 1 [31360/60000 (52%)]\tLoss: 0.614213\n",
      "Train Epoch: 1 [32000/60000 (53%)]\tLoss: 0.656888\n",
      "Train Epoch: 1 [32640/60000 (54%)]\tLoss: 0.530701\n",
      "Train Epoch: 1 [33280/60000 (55%)]\tLoss: 0.783239\n",
      "Train Epoch: 1 [33920/60000 (57%)]\tLoss: 0.464801\n",
      "Train Epoch: 1 [34560/60000 (58%)]\tLoss: 0.475523\n",
      "Train Epoch: 1 [35200/60000 (59%)]\tLoss: 0.746738\n",
      "Train Epoch: 1 [35840/60000 (60%)]\tLoss: 0.515137\n",
      "Train Epoch: 1 [36480/60000 (61%)]\tLoss: 0.581264\n",
      "Train Epoch: 1 [37120/60000 (62%)]\tLoss: 0.524232\n",
      "Train Epoch: 1 [37760/60000 (63%)]\tLoss: 0.542847\n",
      "Train Epoch: 1 [38400/60000 (64%)]\tLoss: 0.434180\n",
      "Train Epoch: 1 [39040/60000 (65%)]\tLoss: 0.602130\n",
      "Train Epoch: 1 [39680/60000 (66%)]\tLoss: 0.693935\n",
      "Train Epoch: 1 [40320/60000 (67%)]\tLoss: 0.676899\n",
      "Train Epoch: 1 [40960/60000 (68%)]\tLoss: 0.759892\n",
      "Train Epoch: 1 [41600/60000 (69%)]\tLoss: 0.534974\n",
      "Train Epoch: 1 [42240/60000 (70%)]\tLoss: 0.421137\n",
      "Train Epoch: 1 [42880/60000 (71%)]\tLoss: 0.459134\n",
      "Train Epoch: 1 [43520/60000 (72%)]\tLoss: 0.579284\n",
      "Train Epoch: 1 [44160/60000 (74%)]\tLoss: 0.487347\n",
      "Train Epoch: 1 [44800/60000 (75%)]\tLoss: 0.777196\n",
      "Train Epoch: 1 [45440/60000 (76%)]\tLoss: 0.456169\n",
      "Train Epoch: 1 [46080/60000 (77%)]\tLoss: 0.532410\n",
      "Train Epoch: 1 [46720/60000 (78%)]\tLoss: 0.589173\n",
      "Train Epoch: 1 [47360/60000 (79%)]\tLoss: 0.904984\n",
      "Train Epoch: 1 [48000/60000 (80%)]\tLoss: 0.456929\n",
      "Train Epoch: 1 [48640/60000 (81%)]\tLoss: 0.524037\n",
      "Train Epoch: 1 [49280/60000 (82%)]\tLoss: 0.367191\n",
      "Train Epoch: 1 [49920/60000 (83%)]\tLoss: 0.410185\n",
      "Train Epoch: 1 [50560/60000 (84%)]\tLoss: 0.368836\n",
      "Train Epoch: 1 [51200/60000 (85%)]\tLoss: 0.462540\n",
      "Train Epoch: 1 [51840/60000 (86%)]\tLoss: 0.667940\n",
      "Train Epoch: 1 [52480/60000 (87%)]\tLoss: 0.669612\n",
      "Train Epoch: 1 [53120/60000 (88%)]\tLoss: 0.632637\n",
      "Train Epoch: 1 [53760/60000 (90%)]\tLoss: 0.476264\n",
      "Train Epoch: 1 [54400/60000 (91%)]\tLoss: 0.407511\n",
      "Train Epoch: 1 [55040/60000 (92%)]\tLoss: 0.611019\n",
      "Train Epoch: 1 [55680/60000 (93%)]\tLoss: 0.325734\n",
      "Train Epoch: 1 [56320/60000 (94%)]\tLoss: 0.659665\n",
      "Train Epoch: 1 [56960/60000 (95%)]\tLoss: 0.430293\n",
      "Train Epoch: 1 [57600/60000 (96%)]\tLoss: 0.476401\n",
      "Train Epoch: 1 [58240/60000 (97%)]\tLoss: 0.439424\n",
      "Train Epoch: 1 [58880/60000 (98%)]\tLoss: 0.653717\n",
      "Train Epoch: 1 [59520/60000 (99%)]\tLoss: 0.519516\n",
      "\n",
      "Test set: Avg. loss: 0.1939, Accuracy: 9425/10000 (94%)\n",
      "\n",
      "Train Epoch: 2 [0/60000 (0%)]\tLoss: 0.561915\n",
      "Train Epoch: 2 [640/60000 (1%)]\tLoss: 0.482808\n",
      "Train Epoch: 2 [1280/60000 (2%)]\tLoss: 0.643085\n",
      "Train Epoch: 2 [1920/60000 (3%)]\tLoss: 0.498707\n",
      "Train Epoch: 2 [2560/60000 (4%)]\tLoss: 0.510557\n",
      "Train Epoch: 2 [3200/60000 (5%)]\tLoss: 0.597707\n",
      "Train Epoch: 2 [3840/60000 (6%)]\tLoss: 0.527030\n",
      "Train Epoch: 2 [4480/60000 (7%)]\tLoss: 0.423822\n",
      "Train Epoch: 2 [5120/60000 (9%)]\tLoss: 0.869116\n",
      "Train Epoch: 2 [5760/60000 (10%)]\tLoss: 0.386101\n",
      "Train Epoch: 2 [6400/60000 (11%)]\tLoss: 0.394154\n",
      "Train Epoch: 2 [7040/60000 (12%)]\tLoss: 0.481313\n",
      "Train Epoch: 2 [7680/60000 (13%)]\tLoss: 0.376501\n",
      "Train Epoch: 2 [8320/60000 (14%)]\tLoss: 0.366432\n",
      "Train Epoch: 2 [8960/60000 (15%)]\tLoss: 0.198315\n",
      "Train Epoch: 2 [9600/60000 (16%)]\tLoss: 0.463216\n",
      "Train Epoch: 2 [10240/60000 (17%)]\tLoss: 0.380095\n",
      "Train Epoch: 2 [10880/60000 (18%)]\tLoss: 0.507749\n",
      "Train Epoch: 2 [11520/60000 (19%)]\tLoss: 0.369206\n",
      "Train Epoch: 2 [12160/60000 (20%)]\tLoss: 0.267602\n",
      "Train Epoch: 2 [12800/60000 (21%)]\tLoss: 0.468030\n",
      "Train Epoch: 2 [13440/60000 (22%)]\tLoss: 0.461559\n",
      "Train Epoch: 2 [14080/60000 (23%)]\tLoss: 0.380744\n",
      "Train Epoch: 2 [14720/60000 (25%)]\tLoss: 0.460527\n",
      "Train Epoch: 2 [15360/60000 (26%)]\tLoss: 0.395233\n",
      "Train Epoch: 2 [16000/60000 (27%)]\tLoss: 0.350805\n",
      "Train Epoch: 2 [16640/60000 (28%)]\tLoss: 0.312746\n",
      "Train Epoch: 2 [17280/60000 (29%)]\tLoss: 0.639173\n",
      "Train Epoch: 2 [17920/60000 (30%)]\tLoss: 0.678041\n",
      "Train Epoch: 2 [18560/60000 (31%)]\tLoss: 0.395771\n",
      "Train Epoch: 2 [19200/60000 (32%)]\tLoss: 0.292995\n",
      "Train Epoch: 2 [19840/60000 (33%)]\tLoss: 0.304800\n",
      "Train Epoch: 2 [20480/60000 (34%)]\tLoss: 0.218339\n",
      "Train Epoch: 2 [21120/60000 (35%)]\tLoss: 0.462980\n",
      "Train Epoch: 2 [21760/60000 (36%)]\tLoss: 0.291236\n",
      "Train Epoch: 2 [22400/60000 (37%)]\tLoss: 0.360370\n",
      "Train Epoch: 2 [23040/60000 (38%)]\tLoss: 0.366507\n",
      "Train Epoch: 2 [23680/60000 (39%)]\tLoss: 0.246020\n",
      "Train Epoch: 2 [24320/60000 (41%)]\tLoss: 0.283033\n",
      "Train Epoch: 2 [24960/60000 (42%)]\tLoss: 0.342430\n",
      "Train Epoch: 2 [25600/60000 (43%)]\tLoss: 0.504275\n",
      "Train Epoch: 2 [26240/60000 (44%)]\tLoss: 0.484786\n",
      "Train Epoch: 2 [26880/60000 (45%)]\tLoss: 0.551385\n",
      "Train Epoch: 2 [27520/60000 (46%)]\tLoss: 0.337824\n",
      "Train Epoch: 2 [28160/60000 (47%)]\tLoss: 0.296225\n",
      "Train Epoch: 2 [28800/60000 (48%)]\tLoss: 0.273765\n",
      "Train Epoch: 2 [29440/60000 (49%)]\tLoss: 0.267435\n",
      "Train Epoch: 2 [30080/60000 (50%)]\tLoss: 0.271004\n",
      "Train Epoch: 2 [30720/60000 (51%)]\tLoss: 0.434709\n",
      "Train Epoch: 2 [31360/60000 (52%)]\tLoss: 0.347876\n",
      "Train Epoch: 2 [32000/60000 (53%)]\tLoss: 0.368800\n",
      "Train Epoch: 2 [32640/60000 (54%)]\tLoss: 0.595609\n",
      "Train Epoch: 2 [33280/60000 (55%)]\tLoss: 0.279200\n",
      "Train Epoch: 2 [33920/60000 (57%)]\tLoss: 0.322511\n",
      "Train Epoch: 2 [34560/60000 (58%)]\tLoss: 0.485794\n",
      "Train Epoch: 2 [35200/60000 (59%)]\tLoss: 0.336768\n",
      "Train Epoch: 2 [35840/60000 (60%)]\tLoss: 0.307207\n",
      "Train Epoch: 2 [36480/60000 (61%)]\tLoss: 0.420983\n",
      "Train Epoch: 2 [37120/60000 (62%)]\tLoss: 0.270328\n",
      "Train Epoch: 2 [37760/60000 (63%)]\tLoss: 0.232900\n",
      "Train Epoch: 2 [38400/60000 (64%)]\tLoss: 0.220216\n",
      "Train Epoch: 2 [39040/60000 (65%)]\tLoss: 0.496093\n",
      "Train Epoch: 2 [39680/60000 (66%)]\tLoss: 0.353150\n",
      "Train Epoch: 2 [40320/60000 (67%)]\tLoss: 0.288271\n",
      "Train Epoch: 2 [40960/60000 (68%)]\tLoss: 0.508214\n",
      "Train Epoch: 2 [41600/60000 (69%)]\tLoss: 0.461548\n",
      "Train Epoch: 2 [42240/60000 (70%)]\tLoss: 0.460548\n",
      "Train Epoch: 2 [42880/60000 (71%)]\tLoss: 0.220254\n",
      "Train Epoch: 2 [43520/60000 (72%)]\tLoss: 0.261846\n",
      "Train Epoch: 2 [44160/60000 (74%)]\tLoss: 0.364073\n",
      "Train Epoch: 2 [44800/60000 (75%)]\tLoss: 0.486061\n",
      "Train Epoch: 2 [45440/60000 (76%)]\tLoss: 0.276109\n",
      "Train Epoch: 2 [46080/60000 (77%)]\tLoss: 0.403981\n",
      "Train Epoch: 2 [46720/60000 (78%)]\tLoss: 0.225299\n",
      "Train Epoch: 2 [47360/60000 (79%)]\tLoss: 0.350658\n",
      "Train Epoch: 2 [48000/60000 (80%)]\tLoss: 0.309430\n",
      "Train Epoch: 2 [48640/60000 (81%)]\tLoss: 0.221616\n",
      "Train Epoch: 2 [49280/60000 (82%)]\tLoss: 0.488573\n",
      "Train Epoch: 2 [49920/60000 (83%)]\tLoss: 0.328543\n",
      "Train Epoch: 2 [50560/60000 (84%)]\tLoss: 0.185261\n",
      "Train Epoch: 2 [51200/60000 (85%)]\tLoss: 0.225029\n",
      "Train Epoch: 2 [51840/60000 (86%)]\tLoss: 0.323372\n",
      "Train Epoch: 2 [52480/60000 (87%)]\tLoss: 0.392858\n",
      "Train Epoch: 2 [53120/60000 (88%)]\tLoss: 0.195888\n",
      "Train Epoch: 2 [53760/60000 (90%)]\tLoss: 0.270843\n",
      "Train Epoch: 2 [54400/60000 (91%)]\tLoss: 0.183278\n",
      "Train Epoch: 2 [55040/60000 (92%)]\tLoss: 0.290962\n",
      "Train Epoch: 2 [55680/60000 (93%)]\tLoss: 0.440428\n",
      "Train Epoch: 2 [56320/60000 (94%)]\tLoss: 0.347935\n",
      "Train Epoch: 2 [56960/60000 (95%)]\tLoss: 0.596215\n",
      "Train Epoch: 2 [57600/60000 (96%)]\tLoss: 0.329479\n",
      "Train Epoch: 2 [58240/60000 (97%)]\tLoss: 0.218796\n",
      "Train Epoch: 2 [58880/60000 (98%)]\tLoss: 0.309168\n",
      "Train Epoch: 2 [59520/60000 (99%)]\tLoss: 0.347007\n",
      "\n",
      "Test set: Avg. loss: 0.1225, Accuracy: 9619/10000 (96%)\n",
      "\n",
      "Train Epoch: 3 [0/60000 (0%)]\tLoss: 0.402727\n",
      "Train Epoch: 3 [640/60000 (1%)]\tLoss: 0.292546\n",
      "Train Epoch: 3 [1280/60000 (2%)]\tLoss: 0.333089\n",
      "Train Epoch: 3 [1920/60000 (3%)]\tLoss: 0.230952\n",
      "Train Epoch: 3 [2560/60000 (4%)]\tLoss: 0.300050\n",
      "Train Epoch: 3 [3200/60000 (5%)]\tLoss: 0.212321\n",
      "Train Epoch: 3 [3840/60000 (6%)]\tLoss: 0.183239\n",
      "Train Epoch: 3 [4480/60000 (7%)]\tLoss: 0.252182\n",
      "Train Epoch: 3 [5120/60000 (9%)]\tLoss: 0.260388\n",
      "Train Epoch: 3 [5760/60000 (10%)]\tLoss: 0.334987\n",
      "Train Epoch: 3 [6400/60000 (11%)]\tLoss: 0.425379\n",
      "Train Epoch: 3 [7040/60000 (12%)]\tLoss: 0.378236\n",
      "Train Epoch: 3 [7680/60000 (13%)]\tLoss: 0.242431\n",
      "Train Epoch: 3 [8320/60000 (14%)]\tLoss: 0.505762\n",
      "Train Epoch: 3 [8960/60000 (15%)]\tLoss: 0.383668\n",
      "Train Epoch: 3 [9600/60000 (16%)]\tLoss: 0.395479\n",
      "Train Epoch: 3 [10240/60000 (17%)]\tLoss: 0.256554\n",
      "Train Epoch: 3 [10880/60000 (18%)]\tLoss: 0.160359\n",
      "Train Epoch: 3 [11520/60000 (19%)]\tLoss: 0.198740\n",
      "Train Epoch: 3 [12160/60000 (20%)]\tLoss: 0.617024\n",
      "Train Epoch: 3 [12800/60000 (21%)]\tLoss: 0.328578\n",
      "Train Epoch: 3 [13440/60000 (22%)]\tLoss: 0.333099\n",
      "Train Epoch: 3 [14080/60000 (23%)]\tLoss: 0.334598\n",
      "Train Epoch: 3 [14720/60000 (25%)]\tLoss: 0.164843\n",
      "Train Epoch: 3 [15360/60000 (26%)]\tLoss: 0.548784\n",
      "Train Epoch: 3 [16000/60000 (27%)]\tLoss: 0.347576\n",
      "Train Epoch: 3 [16640/60000 (28%)]\tLoss: 0.129996\n",
      "Train Epoch: 3 [17280/60000 (29%)]\tLoss: 0.326774\n",
      "Train Epoch: 3 [17920/60000 (30%)]\tLoss: 0.331103\n",
      "Train Epoch: 3 [18560/60000 (31%)]\tLoss: 0.289442\n",
      "Train Epoch: 3 [19200/60000 (32%)]\tLoss: 0.362895\n",
      "Train Epoch: 3 [19840/60000 (33%)]\tLoss: 0.178431\n",
      "Train Epoch: 3 [20480/60000 (34%)]\tLoss: 0.390269\n",
      "Train Epoch: 3 [21120/60000 (35%)]\tLoss: 0.269953\n",
      "Train Epoch: 3 [21760/60000 (36%)]\tLoss: 0.426510\n",
      "Train Epoch: 3 [22400/60000 (37%)]\tLoss: 0.299705\n",
      "Train Epoch: 3 [23040/60000 (38%)]\tLoss: 0.266631\n",
      "Train Epoch: 3 [23680/60000 (39%)]\tLoss: 0.334336\n",
      "Train Epoch: 3 [24320/60000 (41%)]\tLoss: 0.226274\n",
      "Train Epoch: 3 [24960/60000 (42%)]\tLoss: 0.562441\n",
      "Train Epoch: 3 [25600/60000 (43%)]\tLoss: 0.270016\n",
      "Train Epoch: 3 [26240/60000 (44%)]\tLoss: 0.153643\n",
      "Train Epoch: 3 [26880/60000 (45%)]\tLoss: 0.232131\n",
      "Train Epoch: 3 [27520/60000 (46%)]\tLoss: 0.214535\n",
      "Train Epoch: 3 [28160/60000 (47%)]\tLoss: 0.481623\n",
      "Train Epoch: 3 [28800/60000 (48%)]\tLoss: 0.291235\n",
      "Train Epoch: 3 [29440/60000 (49%)]\tLoss: 0.230561\n",
      "Train Epoch: 3 [30080/60000 (50%)]\tLoss: 0.212384\n",
      "Train Epoch: 3 [30720/60000 (51%)]\tLoss: 0.495991\n",
      "Train Epoch: 3 [31360/60000 (52%)]\tLoss: 0.406280\n",
      "Train Epoch: 3 [32000/60000 (53%)]\tLoss: 0.170811\n",
      "Train Epoch: 3 [32640/60000 (54%)]\tLoss: 0.306223\n",
      "Train Epoch: 3 [33280/60000 (55%)]\tLoss: 0.715786\n",
      "Train Epoch: 3 [33920/60000 (57%)]\tLoss: 0.200697\n",
      "Train Epoch: 3 [34560/60000 (58%)]\tLoss: 0.283570\n",
      "Train Epoch: 3 [35200/60000 (59%)]\tLoss: 0.178739\n",
      "Train Epoch: 3 [35840/60000 (60%)]\tLoss: 0.245980\n",
      "Train Epoch: 3 [36480/60000 (61%)]\tLoss: 0.209647\n",
      "Train Epoch: 3 [37120/60000 (62%)]\tLoss: 0.198865\n",
      "Train Epoch: 3 [37760/60000 (63%)]\tLoss: 0.379225\n",
      "Train Epoch: 3 [38400/60000 (64%)]\tLoss: 0.461675\n",
      "Train Epoch: 3 [39040/60000 (65%)]\tLoss: 0.376435\n",
      "Train Epoch: 3 [39680/60000 (66%)]\tLoss: 0.286511\n",
      "Train Epoch: 3 [40320/60000 (67%)]\tLoss: 0.284705\n",
      "Train Epoch: 3 [40960/60000 (68%)]\tLoss: 0.431204\n",
      "Train Epoch: 3 [41600/60000 (69%)]\tLoss: 0.423211\n",
      "Train Epoch: 3 [42240/60000 (70%)]\tLoss: 0.195840\n",
      "Train Epoch: 3 [42880/60000 (71%)]\tLoss: 0.392269\n",
      "Train Epoch: 3 [43520/60000 (72%)]\tLoss: 0.283141\n",
      "Train Epoch: 3 [44160/60000 (74%)]\tLoss: 0.262527\n",
      "Train Epoch: 3 [44800/60000 (75%)]\tLoss: 0.542778\n",
      "Train Epoch: 3 [45440/60000 (76%)]\tLoss: 0.232575\n",
      "Train Epoch: 3 [46080/60000 (77%)]\tLoss: 0.189103\n",
      "Train Epoch: 3 [46720/60000 (78%)]\tLoss: 0.186870\n",
      "Train Epoch: 3 [47360/60000 (79%)]\tLoss: 0.220795\n",
      "Train Epoch: 3 [48000/60000 (80%)]\tLoss: 0.252229\n",
      "Train Epoch: 3 [48640/60000 (81%)]\tLoss: 0.273149\n",
      "Train Epoch: 3 [49280/60000 (82%)]\tLoss: 0.328082\n",
      "Train Epoch: 3 [49920/60000 (83%)]\tLoss: 0.225128\n",
      "Train Epoch: 3 [50560/60000 (84%)]\tLoss: 0.363103\n",
      "Train Epoch: 3 [51200/60000 (85%)]\tLoss: 0.119057\n",
      "Train Epoch: 3 [51840/60000 (86%)]\tLoss: 0.174993\n",
      "Train Epoch: 3 [52480/60000 (87%)]\tLoss: 0.267487\n",
      "Train Epoch: 3 [53120/60000 (88%)]\tLoss: 0.254459\n",
      "Train Epoch: 3 [53760/60000 (90%)]\tLoss: 0.161287\n",
      "Train Epoch: 3 [54400/60000 (91%)]\tLoss: 0.131818\n",
      "Train Epoch: 3 [55040/60000 (92%)]\tLoss: 0.335557\n",
      "Train Epoch: 3 [55680/60000 (93%)]\tLoss: 0.460788\n",
      "Train Epoch: 3 [56320/60000 (94%)]\tLoss: 0.355934\n",
      "Train Epoch: 3 [56960/60000 (95%)]\tLoss: 0.220004\n",
      "Train Epoch: 3 [57600/60000 (96%)]\tLoss: 0.243475\n",
      "Train Epoch: 3 [58240/60000 (97%)]\tLoss: 0.171425\n",
      "Train Epoch: 3 [58880/60000 (98%)]\tLoss: 0.131970\n",
      "Train Epoch: 3 [59520/60000 (99%)]\tLoss: 0.307519\n",
      "\n",
      "Test set: Avg. loss: 0.0985, Accuracy: 9697/10000 (97%)\n",
      "\n"
     ]
    }
   ],
   "source": [
    "test()\n",
    "for epoch in range(1, n_epochs + 1):\n",
    "    train(epoch)\n",
    "    test()"
   ]
  },
  {
   "cell_type": "markdown",
   "metadata": {},
   "source": [
    "## 模型训练好坏的判断\n",
    "训练好了模型之后我们可以进行一些分析，我们绘制一下训练和测试的Loss随时间的变化情况"
   ]
  },
  {
   "cell_type": "code",
   "execution_count": 144,
   "metadata": {
    "ExecuteTime": {
     "end_time": "2021-07-12T07:41:14.201228Z",
     "start_time": "2021-07-12T07:41:14.017704Z"
    },
    "scrolled": false
   },
   "outputs": [
    {
     "data": {
      "image/png": "[encoded data removed]",
      "text/plain": [
       "<Figure size 432x288 with 1 Axes>"
      ]
     },
     "metadata": {
      "needs_background": "light"
     },
     "output_type": "display_data"
    }
   ],
   "source": [
    "fig = plt.figure()\n",
    "plt.plot(train_counter, train_losses, color='blue')\n",
    "plt.scatter(test_counter, test_losses, color='red')\n",
    "plt.legend(['Train Loss', 'Test Loss'], loc='upper right')\n",
    "plt.xlabel('number of training examples seen')\n",
    "plt.ylabel('negative log likelihood loss')\n",
    "plt.show()"
   ]
  },
  {
   "cell_type": "markdown",
   "metadata": {},
   "source": [
    "我们可以具体看一下识别的情况"
   ]
  },
  {
   "cell_type": "code",
   "execution_count": 146,
   "metadata": {
    "ExecuteTime": {
     "end_time": "2021-07-12T07:41:54.695680Z",
     "start_time": "2021-07-12T07:41:54.044751Z"
    }
   },
   "outputs": [
    {
     "name": "stderr",
     "output_type": "stream",
     "text": [
      "C:\\Users\\xiail\\AppData\\Local\\Programs\\Python\\Python37\\lib\\site-packages\\ipykernel_launcher.py:17: UserWarning: Implicit dimension choice for log_softmax has been deprecated. Change the call to include dim=X as an argument.\n"
     ]
    },
    {
     "data": {
      "image/png": "[encoded data removed]",
      "text/plain": [
       "<Figure size 432x288 with 6 Axes>"
      ]
     },
     "metadata": {},
     "output_type": "display_data"
    }
   ],
   "source": [
    "with torch.no_grad():\n",
    "  output = network(example_data)\n",
    "\n",
    "fig = plt.figure()\n",
    "for i in range(6):\n",
    "  plt.subplot(2,3,i+1)\n",
    "  plt.tight_layout()\n",
    "  plt.imshow(example_data[i][0], cmap='gray', interpolation='none')\n",
    "  plt.title(\"Prediction: {}\".format(\n",
    "    output.data.max(1, keepdim=True)[1][i].item()))\n",
    "  plt.xticks([])\n",
    "  plt.yticks([])\n",
    "plt.show()"
   ]
  },
  {
   "cell_type": "markdown",
   "metadata": {},
   "source": [
    "## 导入模型接着训练\n",
    "我们还需要学会的是在已经训练好的模型上进一步优化训练，这就涉及到导入模型操作了"
   ]
  },
  {
   "cell_type": "code",
   "execution_count": 147,
   "metadata": {
    "ExecuteTime": {
     "end_time": "2021-07-12T07:50:18.681330Z",
     "start_time": "2021-07-12T07:50:18.674342Z"
    }
   },
   "outputs": [],
   "source": [
    "continued_network = Net()\n",
    "continued_optimizer = optim.SGD(network.parameters(), lr=learning_rate,\n",
    "                                momentum=momentum)"
   ]
  },
  {
   "cell_type": "code",
   "execution_count": 151,
   "metadata": {
    "ExecuteTime": {
     "end_time": "2021-07-12T07:53:59.735878Z",
     "start_time": "2021-07-12T07:53:59.699779Z"
    }
   },
   "outputs": [],
   "source": [
    "network_state_dict = torch.load('results\\model.pth')\n",
    "continued_network.load_state_dict(network_state_dict)\n",
    "\n",
    "optimizer_state_dict = torch.load('results\\optimizer.pth')\n",
    "continued_optimizer.load_state_dict(optimizer_state_dict)"
   ]
  },
  {
   "cell_type": "markdown",
   "metadata": {},
   "source": [
    "导入之后就可以接着训练了"
   ]
  },
  {
   "cell_type": "code",
   "execution_count": 152,
   "metadata": {
    "ExecuteTime": {
     "end_time": "2021-07-12T07:57:56.385515Z",
     "start_time": "2021-07-12T07:55:04.691756Z"
    },
    "scrolled": true
   },
   "outputs": [
    {
     "name": "stderr",
     "output_type": "stream",
     "text": [
      "C:\\Users\\xiail\\AppData\\Local\\Programs\\Python\\Python37\\lib\\site-packages\\ipykernel_launcher.py:17: UserWarning: Implicit dimension choice for log_softmax has been deprecated. Change the call to include dim=X as an argument.\n"
     ]
    },
    {
     "name": "stdout",
     "output_type": "stream",
     "text": [
      "Train Epoch: 4 [0/60000 (0%)]\tLoss: 0.320737\n",
      "Train Epoch: 4 [640/60000 (1%)]\tLoss: 0.332131\n",
      "Train Epoch: 4 [1280/60000 (2%)]\tLoss: 0.299946\n",
      "Train Epoch: 4 [1920/60000 (3%)]\tLoss: 0.104253\n",
      "Train Epoch: 4 [2560/60000 (4%)]\tLoss: 0.305014\n",
      "Train Epoch: 4 [3200/60000 (5%)]\tLoss: 0.171680\n",
      "Train Epoch: 4 [3840/60000 (6%)]\tLoss: 0.329031\n",
      "Train Epoch: 4 [4480/60000 (7%)]\tLoss: 0.383839\n",
      "Train Epoch: 4 [5120/60000 (9%)]\tLoss: 0.268723\n",
      "Train Epoch: 4 [5760/60000 (10%)]\tLoss: 0.243837\n",
      "Train Epoch: 4 [6400/60000 (11%)]\tLoss: 0.266976\n",
      "Train Epoch: 4 [7040/60000 (12%)]\tLoss: 0.406171\n",
      "Train Epoch: 4 [7680/60000 (13%)]\tLoss: 0.190477\n",
      "Train Epoch: 4 [8320/60000 (14%)]\tLoss: 0.509731\n",
      "Train Epoch: 4 [8960/60000 (15%)]\tLoss: 0.273016\n",
      "Train Epoch: 4 [9600/60000 (16%)]\tLoss: 0.164684\n",
      "Train Epoch: 4 [10240/60000 (17%)]\tLoss: 0.210134\n",
      "Train Epoch: 4 [10880/60000 (18%)]\tLoss: 0.410940\n",
      "Train Epoch: 4 [11520/60000 (19%)]\tLoss: 0.412819\n",
      "Train Epoch: 4 [12160/60000 (20%)]\tLoss: 0.379983\n",
      "Train Epoch: 4 [12800/60000 (21%)]\tLoss: 0.190547\n",
      "Train Epoch: 4 [13440/60000 (22%)]\tLoss: 0.366647\n",
      "Train Epoch: 4 [14080/60000 (23%)]\tLoss: 0.303112\n",
      "Train Epoch: 4 [14720/60000 (25%)]\tLoss: 0.197084\n",
      "Train Epoch: 4 [15360/60000 (26%)]\tLoss: 0.285534\n",
      "Train Epoch: 4 [16000/60000 (27%)]\tLoss: 0.261659\n",
      "Train Epoch: 4 [16640/60000 (28%)]\tLoss: 0.286282\n",
      "Train Epoch: 4 [17280/60000 (29%)]\tLoss: 0.109093\n",
      "Train Epoch: 4 [17920/60000 (30%)]\tLoss: 0.194412\n",
      "Train Epoch: 4 [18560/60000 (31%)]\tLoss: 0.371161\n",
      "Train Epoch: 4 [19200/60000 (32%)]\tLoss: 0.310789\n",
      "Train Epoch: 4 [19840/60000 (33%)]\tLoss: 0.379620\n",
      "Train Epoch: 4 [20480/60000 (34%)]\tLoss: 0.132013\n",
      "Train Epoch: 4 [21120/60000 (35%)]\tLoss: 0.187489\n",
      "Train Epoch: 4 [21760/60000 (36%)]\tLoss: 0.415345\n",
      "Train Epoch: 4 [22400/60000 (37%)]\tLoss: 0.416414\n",
      "Train Epoch: 4 [23040/60000 (38%)]\tLoss: 0.141661\n",
      "Train Epoch: 4 [23680/60000 (39%)]\tLoss: 0.277214\n",
      "Train Epoch: 4 [24320/60000 (41%)]\tLoss: 0.255479\n",
      "Train Epoch: 4 [24960/60000 (42%)]\tLoss: 0.366127\n",
      "Train Epoch: 4 [25600/60000 (43%)]\tLoss: 0.275111\n",
      "Train Epoch: 4 [26240/60000 (44%)]\tLoss: 0.726121\n",
      "Train Epoch: 4 [26880/60000 (45%)]\tLoss: 0.066465\n",
      "Train Epoch: 4 [27520/60000 (46%)]\tLoss: 0.265497\n",
      "Train Epoch: 4 [28160/60000 (47%)]\tLoss: 0.315721\n",
      "Train Epoch: 4 [28800/60000 (48%)]\tLoss: 0.114272\n",
      "Train Epoch: 4 [29440/60000 (49%)]\tLoss: 0.162709\n",
      "Train Epoch: 4 [30080/60000 (50%)]\tLoss: 0.210780\n",
      "Train Epoch: 4 [30720/60000 (51%)]\tLoss: 0.281726\n",
      "Train Epoch: 4 [31360/60000 (52%)]\tLoss: 0.304089\n",
      "Train Epoch: 4 [32000/60000 (53%)]\tLoss: 0.222305\n",
      "Train Epoch: 4 [32640/60000 (54%)]\tLoss: 0.282648\n",
      "Train Epoch: 4 [33280/60000 (55%)]\tLoss: 0.183131\n",
      "Train Epoch: 4 [33920/60000 (57%)]\tLoss: 0.310153\n",
      "Train Epoch: 4 [34560/60000 (58%)]\tLoss: 0.226979\n",
      "Train Epoch: 4 [35200/60000 (59%)]\tLoss: 0.164903\n",
      "Train Epoch: 4 [35840/60000 (60%)]\tLoss: 0.139306\n",
      "Train Epoch: 4 [36480/60000 (61%)]\tLoss: 0.289261\n",
      "Train Epoch: 4 [37120/60000 (62%)]\tLoss: 0.237866\n",
      "Train Epoch: 4 [37760/60000 (63%)]\tLoss: 0.326810\n",
      "Train Epoch: 4 [38400/60000 (64%)]\tLoss: 0.199666\n",
      "Train Epoch: 4 [39040/60000 (65%)]\tLoss: 0.455110\n",
      "Train Epoch: 4 [39680/60000 (66%)]\tLoss: 0.267391\n",
      "Train Epoch: 4 [40320/60000 (67%)]\tLoss: 0.210190\n",
      "Train Epoch: 4 [40960/60000 (68%)]\tLoss: 0.163086\n",
      "Train Epoch: 4 [41600/60000 (69%)]\tLoss: 0.243642\n",
      "Train Epoch: 4 [42240/60000 (70%)]\tLoss: 0.289207\n",
      "Train Epoch: 4 [42880/60000 (71%)]\tLoss: 0.285279\n",
      "Train Epoch: 4 [43520/60000 (72%)]\tLoss: 0.153784\n",
      "Train Epoch: 4 [44160/60000 (74%)]\tLoss: 0.174679\n",
      "Train Epoch: 4 [44800/60000 (75%)]\tLoss: 0.182415\n",
      "Train Epoch: 4 [45440/60000 (76%)]\tLoss: 0.348207\n",
      "Train Epoch: 4 [46080/60000 (77%)]\tLoss: 0.151868\n",
      "Train Epoch: 4 [46720/60000 (78%)]\tLoss: 0.400047\n",
      "Train Epoch: 4 [47360/60000 (79%)]\tLoss: 0.267456\n",
      "Train Epoch: 4 [48000/60000 (80%)]\tLoss: 0.192285\n",
      "Train Epoch: 4 [48640/60000 (81%)]\tLoss: 0.596255\n",
      "Train Epoch: 4 [49280/60000 (82%)]\tLoss: 0.128079\n",
      "Train Epoch: 4 [49920/60000 (83%)]\tLoss: 0.176491\n",
      "Train Epoch: 4 [50560/60000 (84%)]\tLoss: 0.383207\n",
      "Train Epoch: 4 [51200/60000 (85%)]\tLoss: 0.077638\n",
      "Train Epoch: 4 [51840/60000 (86%)]\tLoss: 0.279264\n",
      "Train Epoch: 4 [52480/60000 (87%)]\tLoss: 0.285599\n",
      "Train Epoch: 4 [53120/60000 (88%)]\tLoss: 0.249951\n",
      "Train Epoch: 4 [53760/60000 (90%)]\tLoss: 0.131702\n",
      "Train Epoch: 4 [54400/60000 (91%)]\tLoss: 0.414764\n",
      "Train Epoch: 4 [55040/60000 (92%)]\tLoss: 0.282316\n",
      "Train Epoch: 4 [55680/60000 (93%)]\tLoss: 0.250698\n",
      "Train Epoch: 4 [56320/60000 (94%)]\tLoss: 0.256825\n",
      "Train Epoch: 4 [56960/60000 (95%)]\tLoss: 0.200638\n",
      "Train Epoch: 4 [57600/60000 (96%)]\tLoss: 0.152607\n",
      "Train Epoch: 4 [58240/60000 (97%)]\tLoss: 0.237366\n",
      "Train Epoch: 4 [58880/60000 (98%)]\tLoss: 0.221631\n",
      "Train Epoch: 4 [59520/60000 (99%)]\tLoss: 0.226302\n"
     ]
    },
    {
     "name": "stderr",
     "output_type": "stream",
     "text": [
      "C:\\Users\\xiail\\AppData\\Local\\Programs\\Python\\Python37\\lib\\site-packages\\torch\\nn\\_reduction.py:42: UserWarning: size_average and reduce args will be deprecated, please use reduction='sum' instead.\n",
      "  warnings.warn(warning.format(ret))\n"
     ]
    },
    {
     "name": "stdout",
     "output_type": "stream",
     "text": [
      "\n",
      "Test set: Avg. loss: 0.0890, Accuracy: 9711/10000 (97%)\n",
      "\n",
      "Train Epoch: 5 [0/60000 (0%)]\tLoss: 0.388904\n",
      "Train Epoch: 5 [640/60000 (1%)]\tLoss: 0.132009\n",
      "Train Epoch: 5 [1280/60000 (2%)]\tLoss: 0.258141\n",
      "Train Epoch: 5 [1920/60000 (3%)]\tLoss: 0.392577\n",
      "Train Epoch: 5 [2560/60000 (4%)]\tLoss: 0.269752\n",
      "Train Epoch: 5 [3200/60000 (5%)]\tLoss: 0.132240\n",
      "Train Epoch: 5 [3840/60000 (6%)]\tLoss: 0.174920\n",
      "Train Epoch: 5 [4480/60000 (7%)]\tLoss: 0.441644\n",
      "Train Epoch: 5 [5120/60000 (9%)]\tLoss: 0.195555\n",
      "Train Epoch: 5 [5760/60000 (10%)]\tLoss: 0.318475\n",
      "Train Epoch: 5 [6400/60000 (11%)]\tLoss: 0.110979\n",
      "Train Epoch: 5 [7040/60000 (12%)]\tLoss: 0.189511\n",
      "Train Epoch: 5 [7680/60000 (13%)]\tLoss: 0.226574\n",
      "Train Epoch: 5 [8320/60000 (14%)]\tLoss: 0.204356\n",
      "Train Epoch: 5 [8960/60000 (15%)]\tLoss: 0.338259\n",
      "Train Epoch: 5 [9600/60000 (16%)]\tLoss: 0.250576\n",
      "Train Epoch: 5 [10240/60000 (17%)]\tLoss: 0.181828\n",
      "Train Epoch: 5 [10880/60000 (18%)]\tLoss: 0.292774\n",
      "Train Epoch: 5 [11520/60000 (19%)]\tLoss: 0.256771\n",
      "Train Epoch: 5 [12160/60000 (20%)]\tLoss: 0.389539\n",
      "Train Epoch: 5 [12800/60000 (21%)]\tLoss: 0.336802\n",
      "Train Epoch: 5 [13440/60000 (22%)]\tLoss: 0.336227\n",
      "Train Epoch: 5 [14080/60000 (23%)]\tLoss: 0.166275\n",
      "Train Epoch: 5 [14720/60000 (25%)]\tLoss: 0.200330\n",
      "Train Epoch: 5 [15360/60000 (26%)]\tLoss: 0.129209\n",
      "Train Epoch: 5 [16000/60000 (27%)]\tLoss: 0.296854\n",
      "Train Epoch: 5 [16640/60000 (28%)]\tLoss: 0.184568\n",
      "Train Epoch: 5 [17280/60000 (29%)]\tLoss: 0.251697\n",
      "Train Epoch: 5 [17920/60000 (30%)]\tLoss: 0.276590\n",
      "Train Epoch: 5 [18560/60000 (31%)]\tLoss: 0.292190\n",
      "Train Epoch: 5 [19200/60000 (32%)]\tLoss: 0.284949\n",
      "Train Epoch: 5 [19840/60000 (33%)]\tLoss: 0.150848\n",
      "Train Epoch: 5 [20480/60000 (34%)]\tLoss: 0.149847\n",
      "Train Epoch: 5 [21120/60000 (35%)]\tLoss: 0.399166\n",
      "Train Epoch: 5 [21760/60000 (36%)]\tLoss: 0.343870\n",
      "Train Epoch: 5 [22400/60000 (37%)]\tLoss: 0.187467\n",
      "Train Epoch: 5 [23040/60000 (38%)]\tLoss: 0.090590\n",
      "Train Epoch: 5 [23680/60000 (39%)]\tLoss: 0.180511\n",
      "Train Epoch: 5 [24320/60000 (41%)]\tLoss: 0.290414\n",
      "Train Epoch: 5 [24960/60000 (42%)]\tLoss: 0.296377\n",
      "Train Epoch: 5 [25600/60000 (43%)]\tLoss: 0.082140\n",
      "Train Epoch: 5 [26240/60000 (44%)]\tLoss: 0.243643\n",
      "Train Epoch: 5 [26880/60000 (45%)]\tLoss: 0.209163\n",
      "Train Epoch: 5 [27520/60000 (46%)]\tLoss: 0.249907\n",
      "Train Epoch: 5 [28160/60000 (47%)]\tLoss: 0.319881\n",
      "Train Epoch: 5 [28800/60000 (48%)]\tLoss: 0.082895\n",
      "Train Epoch: 5 [29440/60000 (49%)]\tLoss: 0.285474\n",
      "Train Epoch: 5 [30080/60000 (50%)]\tLoss: 0.197305\n",
      "Train Epoch: 5 [30720/60000 (51%)]\tLoss: 0.307888\n",
      "Train Epoch: 5 [31360/60000 (52%)]\tLoss: 0.317590\n",
      "Train Epoch: 5 [32000/60000 (53%)]\tLoss: 0.286461\n",
      "Train Epoch: 5 [32640/60000 (54%)]\tLoss: 0.105470\n",
      "Train Epoch: 5 [33280/60000 (55%)]\tLoss: 0.095599\n",
      "Train Epoch: 5 [33920/60000 (57%)]\tLoss: 0.189069\n",
      "Train Epoch: 5 [34560/60000 (58%)]\tLoss: 0.260461\n",
      "Train Epoch: 5 [35200/60000 (59%)]\tLoss: 0.138205\n",
      "Train Epoch: 5 [35840/60000 (60%)]\tLoss: 0.123143\n",
      "Train Epoch: 5 [36480/60000 (61%)]\tLoss: 0.124149\n",
      "Train Epoch: 5 [37120/60000 (62%)]\tLoss: 0.262450\n",
      "Train Epoch: 5 [37760/60000 (63%)]\tLoss: 0.438887\n",
      "Train Epoch: 5 [38400/60000 (64%)]\tLoss: 0.253294\n",
      "Train Epoch: 5 [39040/60000 (65%)]\tLoss: 0.152685\n",
      "Train Epoch: 5 [39680/60000 (66%)]\tLoss: 0.350792\n",
      "Train Epoch: 5 [40320/60000 (67%)]\tLoss: 0.439568\n",
      "Train Epoch: 5 [40960/60000 (68%)]\tLoss: 0.210615\n",
      "Train Epoch: 5 [41600/60000 (69%)]\tLoss: 0.241175\n",
      "Train Epoch: 5 [42240/60000 (70%)]\tLoss: 0.135383\n",
      "Train Epoch: 5 [42880/60000 (71%)]\tLoss: 0.355366\n",
      "Train Epoch: 5 [43520/60000 (72%)]\tLoss: 0.262898\n",
      "Train Epoch: 5 [44160/60000 (74%)]\tLoss: 0.221946\n",
      "Train Epoch: 5 [44800/60000 (75%)]\tLoss: 0.118746\n",
      "Train Epoch: 5 [45440/60000 (76%)]\tLoss: 0.108728\n",
      "Train Epoch: 5 [46080/60000 (77%)]\tLoss: 0.231196\n",
      "Train Epoch: 5 [46720/60000 (78%)]\tLoss: 0.183873\n",
      "Train Epoch: 5 [47360/60000 (79%)]\tLoss: 0.295824\n",
      "Train Epoch: 5 [48000/60000 (80%)]\tLoss: 0.228211\n",
      "Train Epoch: 5 [48640/60000 (81%)]\tLoss: 0.197794\n",
      "Train Epoch: 5 [49280/60000 (82%)]\tLoss: 0.368719\n",
      "Train Epoch: 5 [49920/60000 (83%)]\tLoss: 0.086576\n",
      "Train Epoch: 5 [50560/60000 (84%)]\tLoss: 0.072564\n",
      "Train Epoch: 5 [51200/60000 (85%)]\tLoss: 0.417175\n",
      "Train Epoch: 5 [51840/60000 (86%)]\tLoss: 0.120104\n",
      "Train Epoch: 5 [52480/60000 (87%)]\tLoss: 0.214513\n",
      "Train Epoch: 5 [53120/60000 (88%)]\tLoss: 0.242827\n",
      "Train Epoch: 5 [53760/60000 (90%)]\tLoss: 0.237509\n",
      "Train Epoch: 5 [54400/60000 (91%)]\tLoss: 0.332931\n",
      "Train Epoch: 5 [55040/60000 (92%)]\tLoss: 0.152596\n",
      "Train Epoch: 5 [55680/60000 (93%)]\tLoss: 0.156537\n",
      "Train Epoch: 5 [56320/60000 (94%)]\tLoss: 0.332950\n",
      "Train Epoch: 5 [56960/60000 (95%)]\tLoss: 0.430809\n",
      "Train Epoch: 5 [57600/60000 (96%)]\tLoss: 0.271391\n",
      "Train Epoch: 5 [58240/60000 (97%)]\tLoss: 0.304819\n",
      "Train Epoch: 5 [58880/60000 (98%)]\tLoss: 0.241801\n",
      "Train Epoch: 5 [59520/60000 (99%)]\tLoss: 0.332473\n",
      "\n",
      "Test set: Avg. loss: 0.0738, Accuracy: 9767/10000 (98%)\n",
      "\n",
      "Train Epoch: 6 [0/60000 (0%)]\tLoss: 0.268122\n",
      "Train Epoch: 6 [640/60000 (1%)]\tLoss: 0.167173\n",
      "Train Epoch: 6 [1280/60000 (2%)]\tLoss: 0.127248\n",
      "Train Epoch: 6 [1920/60000 (3%)]\tLoss: 0.294215\n",
      "Train Epoch: 6 [2560/60000 (4%)]\tLoss: 0.185457\n",
      "Train Epoch: 6 [3200/60000 (5%)]\tLoss: 0.340094\n",
      "Train Epoch: 6 [3840/60000 (6%)]\tLoss: 0.236003\n",
      "Train Epoch: 6 [4480/60000 (7%)]\tLoss: 0.238122\n",
      "Train Epoch: 6 [5120/60000 (9%)]\tLoss: 0.178034\n",
      "Train Epoch: 6 [5760/60000 (10%)]\tLoss: 0.228503\n",
      "Train Epoch: 6 [6400/60000 (11%)]\tLoss: 0.357234\n",
      "Train Epoch: 6 [7040/60000 (12%)]\tLoss: 0.253062\n",
      "Train Epoch: 6 [7680/60000 (13%)]\tLoss: 0.257680\n",
      "Train Epoch: 6 [8320/60000 (14%)]\tLoss: 0.096857\n",
      "Train Epoch: 6 [8960/60000 (15%)]\tLoss: 0.304914\n",
      "Train Epoch: 6 [9600/60000 (16%)]\tLoss: 0.197243\n",
      "Train Epoch: 6 [10240/60000 (17%)]\tLoss: 0.348977\n",
      "Train Epoch: 6 [10880/60000 (18%)]\tLoss: 0.318373\n",
      "Train Epoch: 6 [11520/60000 (19%)]\tLoss: 0.289140\n",
      "Train Epoch: 6 [12160/60000 (20%)]\tLoss: 0.206353\n",
      "Train Epoch: 6 [12800/60000 (21%)]\tLoss: 0.269407\n",
      "Train Epoch: 6 [13440/60000 (22%)]\tLoss: 0.335876\n",
      "Train Epoch: 6 [14080/60000 (23%)]\tLoss: 0.338294\n",
      "Train Epoch: 6 [14720/60000 (25%)]\tLoss: 0.237434\n",
      "Train Epoch: 6 [15360/60000 (26%)]\tLoss: 0.208717\n",
      "Train Epoch: 6 [16000/60000 (27%)]\tLoss: 0.306491\n",
      "Train Epoch: 6 [16640/60000 (28%)]\tLoss: 0.241759\n",
      "Train Epoch: 6 [17280/60000 (29%)]\tLoss: 0.164583\n",
      "Train Epoch: 6 [17920/60000 (30%)]\tLoss: 0.247307\n",
      "Train Epoch: 6 [18560/60000 (31%)]\tLoss: 0.204015\n",
      "Train Epoch: 6 [19200/60000 (32%)]\tLoss: 0.245827\n",
      "Train Epoch: 6 [19840/60000 (33%)]\tLoss: 0.200713\n",
      "Train Epoch: 6 [20480/60000 (34%)]\tLoss: 0.239231\n",
      "Train Epoch: 6 [21120/60000 (35%)]\tLoss: 0.571892\n",
      "Train Epoch: 6 [21760/60000 (36%)]\tLoss: 0.250564\n",
      "Train Epoch: 6 [22400/60000 (37%)]\tLoss: 0.192847\n",
      "Train Epoch: 6 [23040/60000 (38%)]\tLoss: 0.169705\n",
      "Train Epoch: 6 [23680/60000 (39%)]\tLoss: 0.332277\n",
      "Train Epoch: 6 [24320/60000 (41%)]\tLoss: 0.406935\n",
      "Train Epoch: 6 [24960/60000 (42%)]\tLoss: 0.217803\n",
      "Train Epoch: 6 [25600/60000 (43%)]\tLoss: 0.198568\n",
      "Train Epoch: 6 [26240/60000 (44%)]\tLoss: 0.128425\n",
      "Train Epoch: 6 [26880/60000 (45%)]\tLoss: 0.205023\n",
      "Train Epoch: 6 [27520/60000 (46%)]\tLoss: 0.168337\n",
      "Train Epoch: 6 [28160/60000 (47%)]\tLoss: 0.113565\n",
      "Train Epoch: 6 [28800/60000 (48%)]\tLoss: 0.227527\n",
      "Train Epoch: 6 [29440/60000 (49%)]\tLoss: 0.183018\n",
      "Train Epoch: 6 [30080/60000 (50%)]\tLoss: 0.424469\n",
      "Train Epoch: 6 [30720/60000 (51%)]\tLoss: 0.139863\n",
      "Train Epoch: 6 [31360/60000 (52%)]\tLoss: 0.229352\n",
      "Train Epoch: 6 [32000/60000 (53%)]\tLoss: 0.163424\n",
      "Train Epoch: 6 [32640/60000 (54%)]\tLoss: 0.189816\n",
      "Train Epoch: 6 [33280/60000 (55%)]\tLoss: 0.191968\n",
      "Train Epoch: 6 [33920/60000 (57%)]\tLoss: 0.185266\n",
      "Train Epoch: 6 [34560/60000 (58%)]\tLoss: 0.101904\n",
      "Train Epoch: 6 [35200/60000 (59%)]\tLoss: 0.188603\n",
      "Train Epoch: 6 [35840/60000 (60%)]\tLoss: 0.086098\n",
      "Train Epoch: 6 [36480/60000 (61%)]\tLoss: 0.300371\n",
      "Train Epoch: 6 [37120/60000 (62%)]\tLoss: 0.255723\n",
      "Train Epoch: 6 [37760/60000 (63%)]\tLoss: 0.311151\n",
      "Train Epoch: 6 [38400/60000 (64%)]\tLoss: 0.268434\n",
      "Train Epoch: 6 [39040/60000 (65%)]\tLoss: 0.370207\n",
      "Train Epoch: 6 [39680/60000 (66%)]\tLoss: 0.159125\n",
      "Train Epoch: 6 [40320/60000 (67%)]\tLoss: 0.410311\n",
      "Train Epoch: 6 [40960/60000 (68%)]\tLoss: 0.303680\n",
      "Train Epoch: 6 [41600/60000 (69%)]\tLoss: 0.089094\n",
      "Train Epoch: 6 [42240/60000 (70%)]\tLoss: 0.280579\n",
      "Train Epoch: 6 [42880/60000 (71%)]\tLoss: 0.276630\n",
      "Train Epoch: 6 [43520/60000 (72%)]\tLoss: 0.130416\n",
      "Train Epoch: 6 [44160/60000 (74%)]\tLoss: 0.269045\n",
      "Train Epoch: 6 [44800/60000 (75%)]\tLoss: 0.326993\n",
      "Train Epoch: 6 [45440/60000 (76%)]\tLoss: 0.347133\n",
      "Train Epoch: 6 [46080/60000 (77%)]\tLoss: 0.339716\n",
      "Train Epoch: 6 [46720/60000 (78%)]\tLoss: 0.219305\n",
      "Train Epoch: 6 [47360/60000 (79%)]\tLoss: 0.117413\n",
      "Train Epoch: 6 [48000/60000 (80%)]\tLoss: 0.354135\n",
      "Train Epoch: 6 [48640/60000 (81%)]\tLoss: 0.061545\n",
      "Train Epoch: 6 [49280/60000 (82%)]\tLoss: 0.223805\n",
      "Train Epoch: 6 [49920/60000 (83%)]\tLoss: 0.188768\n",
      "Train Epoch: 6 [50560/60000 (84%)]\tLoss: 0.224328\n",
      "Train Epoch: 6 [51200/60000 (85%)]\tLoss: 0.075607\n",
      "Train Epoch: 6 [51840/60000 (86%)]\tLoss: 0.359530\n",
      "Train Epoch: 6 [52480/60000 (87%)]\tLoss: 0.324812\n",
      "Train Epoch: 6 [53120/60000 (88%)]\tLoss: 0.118930\n",
      "Train Epoch: 6 [53760/60000 (90%)]\tLoss: 0.174971\n",
      "Train Epoch: 6 [54400/60000 (91%)]\tLoss: 0.141632\n",
      "Train Epoch: 6 [55040/60000 (92%)]\tLoss: 0.274454\n",
      "Train Epoch: 6 [55680/60000 (93%)]\tLoss: 0.231709\n",
      "Train Epoch: 6 [56320/60000 (94%)]\tLoss: 0.148535\n",
      "Train Epoch: 6 [56960/60000 (95%)]\tLoss: 0.092318\n",
      "Train Epoch: 6 [57600/60000 (96%)]\tLoss: 0.187352\n",
      "Train Epoch: 6 [58240/60000 (97%)]\tLoss: 0.180645\n",
      "Train Epoch: 6 [58880/60000 (98%)]\tLoss: 0.230415\n",
      "Train Epoch: 6 [59520/60000 (99%)]\tLoss: 0.173925\n",
      "\n",
      "Test set: Avg. loss: 0.0677, Accuracy: 9772/10000 (98%)\n",
      "\n",
      "Train Epoch: 7 [0/60000 (0%)]\tLoss: 0.074732\n",
      "Train Epoch: 7 [640/60000 (1%)]\tLoss: 0.251688\n",
      "Train Epoch: 7 [1280/60000 (2%)]\tLoss: 0.192127\n",
      "Train Epoch: 7 [1920/60000 (3%)]\tLoss: 0.252115\n",
      "Train Epoch: 7 [2560/60000 (4%)]\tLoss: 0.328496\n",
      "Train Epoch: 7 [3200/60000 (5%)]\tLoss: 0.357548\n",
      "Train Epoch: 7 [3840/60000 (6%)]\tLoss: 0.139631\n",
      "Train Epoch: 7 [4480/60000 (7%)]\tLoss: 0.270141\n",
      "Train Epoch: 7 [5120/60000 (9%)]\tLoss: 0.315523\n",
      "Train Epoch: 7 [5760/60000 (10%)]\tLoss: 0.196642\n",
      "Train Epoch: 7 [6400/60000 (11%)]\tLoss: 0.062117\n",
      "Train Epoch: 7 [7040/60000 (12%)]\tLoss: 0.180483\n",
      "Train Epoch: 7 [7680/60000 (13%)]\tLoss: 0.111690\n",
      "Train Epoch: 7 [8320/60000 (14%)]\tLoss: 0.231441\n",
      "Train Epoch: 7 [8960/60000 (15%)]\tLoss: 0.419002\n",
      "Train Epoch: 7 [9600/60000 (16%)]\tLoss: 0.119285\n",
      "Train Epoch: 7 [10240/60000 (17%)]\tLoss: 0.300162\n",
      "Train Epoch: 7 [10880/60000 (18%)]\tLoss: 0.190325\n",
      "Train Epoch: 7 [11520/60000 (19%)]\tLoss: 0.252950\n",
      "Train Epoch: 7 [12160/60000 (20%)]\tLoss: 0.190131\n",
      "Train Epoch: 7 [12800/60000 (21%)]\tLoss: 0.266173\n",
      "Train Epoch: 7 [13440/60000 (22%)]\tLoss: 0.501177\n",
      "Train Epoch: 7 [14080/60000 (23%)]\tLoss: 0.213193\n",
      "Train Epoch: 7 [14720/60000 (25%)]\tLoss: 0.081590\n",
      "Train Epoch: 7 [15360/60000 (26%)]\tLoss: 0.057265\n",
      "Train Epoch: 7 [16000/60000 (27%)]\tLoss: 0.228546\n",
      "Train Epoch: 7 [16640/60000 (28%)]\tLoss: 0.177467\n",
      "Train Epoch: 7 [17280/60000 (29%)]\tLoss: 0.445085\n",
      "Train Epoch: 7 [17920/60000 (30%)]\tLoss: 0.218883\n",
      "Train Epoch: 7 [18560/60000 (31%)]\tLoss: 0.296113\n",
      "Train Epoch: 7 [19200/60000 (32%)]\tLoss: 0.191172\n",
      "Train Epoch: 7 [19840/60000 (33%)]\tLoss: 0.251878\n",
      "Train Epoch: 7 [20480/60000 (34%)]\tLoss: 0.105960\n",
      "Train Epoch: 7 [21120/60000 (35%)]\tLoss: 0.189213\n",
      "Train Epoch: 7 [21760/60000 (36%)]\tLoss: 0.227466\n",
      "Train Epoch: 7 [22400/60000 (37%)]\tLoss: 0.177704\n",
      "Train Epoch: 7 [23040/60000 (38%)]\tLoss: 0.532429\n",
      "Train Epoch: 7 [23680/60000 (39%)]\tLoss: 0.112441\n",
      "Train Epoch: 7 [24320/60000 (41%)]\tLoss: 0.212359\n",
      "Train Epoch: 7 [24960/60000 (42%)]\tLoss: 0.255339\n",
      "Train Epoch: 7 [25600/60000 (43%)]\tLoss: 0.229306\n",
      "Train Epoch: 7 [26240/60000 (44%)]\tLoss: 0.152955\n",
      "Train Epoch: 7 [26880/60000 (45%)]\tLoss: 0.264271\n",
      "Train Epoch: 7 [27520/60000 (46%)]\tLoss: 0.152447\n",
      "Train Epoch: 7 [28160/60000 (47%)]\tLoss: 0.319345\n",
      "Train Epoch: 7 [28800/60000 (48%)]\tLoss: 0.351013\n",
      "Train Epoch: 7 [29440/60000 (49%)]\tLoss: 0.306071\n",
      "Train Epoch: 7 [30080/60000 (50%)]\tLoss: 0.506277\n",
      "Train Epoch: 7 [30720/60000 (51%)]\tLoss: 0.182595\n",
      "Train Epoch: 7 [31360/60000 (52%)]\tLoss: 0.226130\n",
      "Train Epoch: 7 [32000/60000 (53%)]\tLoss: 0.177101\n",
      "Train Epoch: 7 [32640/60000 (54%)]\tLoss: 0.163536\n",
      "Train Epoch: 7 [33280/60000 (55%)]\tLoss: 0.107305\n",
      "Train Epoch: 7 [33920/60000 (57%)]\tLoss: 0.200265\n",
      "Train Epoch: 7 [34560/60000 (58%)]\tLoss: 0.236206\n",
      "Train Epoch: 7 [35200/60000 (59%)]\tLoss: 0.244007\n",
      "Train Epoch: 7 [35840/60000 (60%)]\tLoss: 0.120336\n",
      "Train Epoch: 7 [36480/60000 (61%)]\tLoss: 0.259748\n",
      "Train Epoch: 7 [37120/60000 (62%)]\tLoss: 0.137836\n",
      "Train Epoch: 7 [37760/60000 (63%)]\tLoss: 0.155199\n",
      "Train Epoch: 7 [38400/60000 (64%)]\tLoss: 0.239168\n",
      "Train Epoch: 7 [39040/60000 (65%)]\tLoss: 0.257808\n",
      "Train Epoch: 7 [39680/60000 (66%)]\tLoss: 0.233895\n",
      "Train Epoch: 7 [40320/60000 (67%)]\tLoss: 0.260372\n",
      "Train Epoch: 7 [40960/60000 (68%)]\tLoss: 0.188980\n",
      "Train Epoch: 7 [41600/60000 (69%)]\tLoss: 0.146790\n",
      "Train Epoch: 7 [42240/60000 (70%)]\tLoss: 0.280073\n",
      "Train Epoch: 7 [42880/60000 (71%)]\tLoss: 0.261139\n",
      "Train Epoch: 7 [43520/60000 (72%)]\tLoss: 0.342770\n",
      "Train Epoch: 7 [44160/60000 (74%)]\tLoss: 0.339064\n",
      "Train Epoch: 7 [44800/60000 (75%)]\tLoss: 0.217024\n",
      "Train Epoch: 7 [45440/60000 (76%)]\tLoss: 0.140907\n",
      "Train Epoch: 7 [46080/60000 (77%)]\tLoss: 0.170994\n",
      "Train Epoch: 7 [46720/60000 (78%)]\tLoss: 0.158352\n",
      "Train Epoch: 7 [47360/60000 (79%)]\tLoss: 0.100509\n",
      "Train Epoch: 7 [48000/60000 (80%)]\tLoss: 0.146962\n",
      "Train Epoch: 7 [48640/60000 (81%)]\tLoss: 0.273456\n",
      "Train Epoch: 7 [49280/60000 (82%)]\tLoss: 0.199975\n",
      "Train Epoch: 7 [49920/60000 (83%)]\tLoss: 0.117263\n",
      "Train Epoch: 7 [50560/60000 (84%)]\tLoss: 0.132174\n",
      "Train Epoch: 7 [51200/60000 (85%)]\tLoss: 0.410380\n",
      "Train Epoch: 7 [51840/60000 (86%)]\tLoss: 0.075092\n",
      "Train Epoch: 7 [52480/60000 (87%)]\tLoss: 0.126745\n",
      "Train Epoch: 7 [53120/60000 (88%)]\tLoss: 0.376939\n",
      "Train Epoch: 7 [53760/60000 (90%)]\tLoss: 0.310360\n",
      "Train Epoch: 7 [54400/60000 (91%)]\tLoss: 0.246428\n",
      "Train Epoch: 7 [55040/60000 (92%)]\tLoss: 0.076140\n",
      "Train Epoch: 7 [55680/60000 (93%)]\tLoss: 0.221004\n",
      "Train Epoch: 7 [56320/60000 (94%)]\tLoss: 0.219980\n",
      "Train Epoch: 7 [56960/60000 (95%)]\tLoss: 0.150134\n",
      "Train Epoch: 7 [57600/60000 (96%)]\tLoss: 0.357085\n",
      "Train Epoch: 7 [58240/60000 (97%)]\tLoss: 0.304762\n",
      "Train Epoch: 7 [58880/60000 (98%)]\tLoss: 0.215615\n",
      "Train Epoch: 7 [59520/60000 (99%)]\tLoss: 0.171839\n",
      "\n",
      "Test set: Avg. loss: 0.0631, Accuracy: 9802/10000 (98%)\n",
      "\n",
      "Train Epoch: 8 [0/60000 (0%)]\tLoss: 0.379624\n",
      "Train Epoch: 8 [640/60000 (1%)]\tLoss: 0.163535\n",
      "Train Epoch: 8 [1280/60000 (2%)]\tLoss: 0.163178\n",
      "Train Epoch: 8 [1920/60000 (3%)]\tLoss: 0.123792\n",
      "Train Epoch: 8 [2560/60000 (4%)]\tLoss: 0.148864\n",
      "Train Epoch: 8 [3200/60000 (5%)]\tLoss: 0.172774\n",
      "Train Epoch: 8 [3840/60000 (6%)]\tLoss: 0.211327\n",
      "Train Epoch: 8 [4480/60000 (7%)]\tLoss: 0.163166\n",
      "Train Epoch: 8 [5120/60000 (9%)]\tLoss: 0.141805\n",
      "Train Epoch: 8 [5760/60000 (10%)]\tLoss: 0.177659\n",
      "Train Epoch: 8 [6400/60000 (11%)]\tLoss: 0.137868\n",
      "Train Epoch: 8 [7040/60000 (12%)]\tLoss: 0.193575\n",
      "Train Epoch: 8 [7680/60000 (13%)]\tLoss: 0.310631\n",
      "Train Epoch: 8 [8320/60000 (14%)]\tLoss: 0.164425\n",
      "Train Epoch: 8 [8960/60000 (15%)]\tLoss: 0.224255\n",
      "Train Epoch: 8 [9600/60000 (16%)]\tLoss: 0.078416\n",
      "Train Epoch: 8 [10240/60000 (17%)]\tLoss: 0.153980\n",
      "Train Epoch: 8 [10880/60000 (18%)]\tLoss: 0.238717\n",
      "Train Epoch: 8 [11520/60000 (19%)]\tLoss: 0.166205\n",
      "Train Epoch: 8 [12160/60000 (20%)]\tLoss: 0.239326\n",
      "Train Epoch: 8 [12800/60000 (21%)]\tLoss: 0.231435\n",
      "Train Epoch: 8 [13440/60000 (22%)]\tLoss: 0.105592\n",
      "Train Epoch: 8 [14080/60000 (23%)]\tLoss: 0.187085\n",
      "Train Epoch: 8 [14720/60000 (25%)]\tLoss: 0.188725\n",
      "Train Epoch: 8 [15360/60000 (26%)]\tLoss: 0.225443\n",
      "Train Epoch: 8 [16000/60000 (27%)]\tLoss: 0.174728\n",
      "Train Epoch: 8 [16640/60000 (28%)]\tLoss: 0.195282\n",
      "Train Epoch: 8 [17280/60000 (29%)]\tLoss: 0.130069\n",
      "Train Epoch: 8 [17920/60000 (30%)]\tLoss: 0.413437\n",
      "Train Epoch: 8 [18560/60000 (31%)]\tLoss: 0.165609\n",
      "Train Epoch: 8 [19200/60000 (32%)]\tLoss: 0.299995\n",
      "Train Epoch: 8 [19840/60000 (33%)]\tLoss: 0.099502\n",
      "Train Epoch: 8 [20480/60000 (34%)]\tLoss: 0.093498\n",
      "Train Epoch: 8 [21120/60000 (35%)]\tLoss: 0.132797\n",
      "Train Epoch: 8 [21760/60000 (36%)]\tLoss: 0.189452\n",
      "Train Epoch: 8 [22400/60000 (37%)]\tLoss: 0.277521\n",
      "Train Epoch: 8 [23040/60000 (38%)]\tLoss: 0.061055\n",
      "Train Epoch: 8 [23680/60000 (39%)]\tLoss: 0.278960\n",
      "Train Epoch: 8 [24320/60000 (41%)]\tLoss: 0.148153\n",
      "Train Epoch: 8 [24960/60000 (42%)]\tLoss: 0.210878\n",
      "Train Epoch: 8 [25600/60000 (43%)]\tLoss: 0.334576\n",
      "Train Epoch: 8 [26240/60000 (44%)]\tLoss: 0.082165\n"
     ]
    },
    {
     "name": "stdout",
     "output_type": "stream",
     "text": [
      "Train Epoch: 8 [26880/60000 (45%)]\tLoss: 0.314033\n",
      "Train Epoch: 8 [27520/60000 (46%)]\tLoss: 0.218844\n",
      "Train Epoch: 8 [28160/60000 (47%)]\tLoss: 0.203605\n",
      "Train Epoch: 8 [28800/60000 (48%)]\tLoss: 0.258627\n",
      "Train Epoch: 8 [29440/60000 (49%)]\tLoss: 0.229536\n",
      "Train Epoch: 8 [30080/60000 (50%)]\tLoss: 0.172431\n",
      "Train Epoch: 8 [30720/60000 (51%)]\tLoss: 0.107386\n",
      "Train Epoch: 8 [31360/60000 (52%)]\tLoss: 0.148890\n",
      "Train Epoch: 8 [32000/60000 (53%)]\tLoss: 0.093513\n",
      "Train Epoch: 8 [32640/60000 (54%)]\tLoss: 0.139393\n",
      "Train Epoch: 8 [33280/60000 (55%)]\tLoss: 0.141358\n",
      "Train Epoch: 8 [33920/60000 (57%)]\tLoss: 0.122461\n",
      "Train Epoch: 8 [34560/60000 (58%)]\tLoss: 0.298906\n",
      "Train Epoch: 8 [35200/60000 (59%)]\tLoss: 0.288627\n",
      "Train Epoch: 8 [35840/60000 (60%)]\tLoss: 0.121112\n",
      "Train Epoch: 8 [36480/60000 (61%)]\tLoss: 0.266166\n",
      "Train Epoch: 8 [37120/60000 (62%)]\tLoss: 0.224871\n",
      "Train Epoch: 8 [37760/60000 (63%)]\tLoss: 0.103228\n",
      "Train Epoch: 8 [38400/60000 (64%)]\tLoss: 0.161375\n",
      "Train Epoch: 8 [39040/60000 (65%)]\tLoss: 0.137679\n",
      "Train Epoch: 8 [39680/60000 (66%)]\tLoss: 0.183492\n",
      "Train Epoch: 8 [40320/60000 (67%)]\tLoss: 0.211760\n",
      "Train Epoch: 8 [40960/60000 (68%)]\tLoss: 0.092292\n",
      "Train Epoch: 8 [41600/60000 (69%)]\tLoss: 0.081718\n",
      "Train Epoch: 8 [42240/60000 (70%)]\tLoss: 0.400861\n",
      "Train Epoch: 8 [42880/60000 (71%)]\tLoss: 0.227140\n",
      "Train Epoch: 8 [43520/60000 (72%)]\tLoss: 0.189655\n",
      "Train Epoch: 8 [44160/60000 (74%)]\tLoss: 0.235178\n",
      "Train Epoch: 8 [44800/60000 (75%)]\tLoss: 0.106589\n",
      "Train Epoch: 8 [45440/60000 (76%)]\tLoss: 0.122436\n",
      "Train Epoch: 8 [46080/60000 (77%)]\tLoss: 0.085083\n",
      "Train Epoch: 8 [46720/60000 (78%)]\tLoss: 0.072424\n",
      "Train Epoch: 8 [47360/60000 (79%)]\tLoss: 0.215026\n",
      "Train Epoch: 8 [48000/60000 (80%)]\tLoss: 0.128487\n",
      "Train Epoch: 8 [48640/60000 (81%)]\tLoss: 0.265631\n",
      "Train Epoch: 8 [49280/60000 (82%)]\tLoss: 0.217007\n",
      "Train Epoch: 8 [49920/60000 (83%)]\tLoss: 0.113606\n",
      "Train Epoch: 8 [50560/60000 (84%)]\tLoss: 0.120941\n",
      "Train Epoch: 8 [51200/60000 (85%)]\tLoss: 0.173645\n",
      "Train Epoch: 8 [51840/60000 (86%)]\tLoss: 0.271821\n",
      "Train Epoch: 8 [52480/60000 (87%)]\tLoss: 0.123449\n",
      "Train Epoch: 8 [53120/60000 (88%)]\tLoss: 0.104739\n",
      "Train Epoch: 8 [53760/60000 (90%)]\tLoss: 0.162435\n",
      "Train Epoch: 8 [54400/60000 (91%)]\tLoss: 0.199873\n",
      "Train Epoch: 8 [55040/60000 (92%)]\tLoss: 0.157382\n",
      "Train Epoch: 8 [55680/60000 (93%)]\tLoss: 0.171143\n",
      "Train Epoch: 8 [56320/60000 (94%)]\tLoss: 0.178206\n",
      "Train Epoch: 8 [56960/60000 (95%)]\tLoss: 0.175168\n",
      "Train Epoch: 8 [57600/60000 (96%)]\tLoss: 0.313443\n",
      "Train Epoch: 8 [58240/60000 (97%)]\tLoss: 0.254872\n",
      "Train Epoch: 8 [58880/60000 (98%)]\tLoss: 0.206273\n",
      "Train Epoch: 8 [59520/60000 (99%)]\tLoss: 0.326119\n",
      "\n",
      "Test set: Avg. loss: 0.0564, Accuracy: 9824/10000 (98%)\n",
      "\n"
     ]
    }
   ],
   "source": [
    "for i in range(4,9):\n",
    "  test_counter.append(i*len(train_loader.dataset))\n",
    "  train(i)\n",
    "  test()"
   ]
  },
  {
   "cell_type": "markdown",
   "metadata": {},
   "source": [
    "经过更多的训练之后，我们可以查看具体的训练结果，如下"
   ]
  },
  {
   "cell_type": "code",
   "execution_count": 154,
   "metadata": {
    "ExecuteTime": {
     "end_time": "2021-07-12T08:47:40.778436Z",
     "start_time": "2021-07-12T08:47:40.556432Z"
    },
    "scrolled": true
   },
   "outputs": [
    {
     "name": "stderr",
     "output_type": "stream",
     "text": [
      "C:\\Users\\xiail\\AppData\\Local\\Programs\\Python\\Python37\\lib\\site-packages\\matplotlib\\figure.py:445: UserWarning: Matplotlib is currently using module://ipykernel.pylab.backend_inline, which is a non-GUI backend, so cannot show the figure.\n",
      "  % get_backend())\n"
     ]
    },
    {
     "data": {
      "image/png": "[encoded data removed]",
      "text/plain": [
       "<Figure size 432x288 with 1 Axes>"
      ]
     },
     "metadata": {
      "needs_background": "light"
     },
     "output_type": "display_data"
    }
   ],
   "source": [
    "fig = plt.figure()\n",
    "plt.plot(train_counter, train_losses, color='blue')\n",
    "plt.scatter(test_counter, test_losses, color='red')\n",
    "plt.legend(['Train Loss', 'Test Loss'], loc='upper right')\n",
    "plt.xlabel('number of training examples seen')\n",
    "plt.ylabel('negative log likelihood loss')\n",
    "fig.show()"
   ]
  }
 ],
 "metadata": {
  "kernelspec": {
   "display_name": "Python 3.7.2 64-bit",
   "language": "python",
   "name": "python37264bit11efc31016174d95a63a7aa6bcdd4318"
  },
  "language_info": {
   "codemirror_mode": {
    "name": "ipython",
    "version": 3
   },
   "file_extension": ".py",
   "mimetype": "text/x-python",
   "name": "python",
   "nbconvert_exporter": "python",
   "pygments_lexer": "ipython3",
   "version": "3.7.2"
  },
  "toc": {
   "base_numbering": 1,
   "nav_menu": {},
   "number_sections": true,
   "sideBar": true,
   "skip_h1_title": false,
   "title_cell": "Table of Contents",
   "title_sidebar": "Contents",
   "toc_cell": false,
   "toc_position": {},
   "toc_section_display": true,
   "toc_window_display": true
  },
  "varInspector": {
   "cols": {
    "lenName": 16,
    "lenType": 16,
    "lenVar": 40
   },
   "kernels_config": {
    "python": {
     "delete_cmd_postfix": "",
     "delete_cmd_prefix": "del ",
     "library": "var_list.py",
     "varRefreshCmd": "print(var_dic_list())"
    },
    "r": {
     "delete_cmd_postfix": ") ",
     "delete_cmd_prefix": "rm(",
     "library": "var_list.r",
     "varRefreshCmd": "cat(var_dic_list()) "
    }
   },
   "position": {
    "height": "401.4px",
    "left": "1166px",
    "right": "20px",
    "top": "120px",
    "width": "350px"
   },
   "types_to_exclude": [
    "module",
    "function",
    "builtin_function_or_method",
    "instance",
    "_Feature"
   ],
   "window_display": false
  }
 },
 "nbformat": 4,
 "nbformat_minor": 2
}
